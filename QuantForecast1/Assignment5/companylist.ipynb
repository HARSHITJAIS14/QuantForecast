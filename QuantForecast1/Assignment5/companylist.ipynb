{
 "cells": [
  {
   "cell_type": "code",
   "execution_count": 1,
   "metadata": {},
   "outputs": [],
   "source": [
    "nasdaq_250_unique = [\n",
    "    \"AAPL\", \"MSFT\", \"GOOGL\", \"GOOG\", \"AMZN\", \"NVDA\", \"META\", \"TSLA\", \"AVGO\", \"ASML\",\n",
    "    \"COST\", \"ADBE\", \"PEP\", \"AMD\", \"CMCSA\", \"CSCO\", \"TXN\", \"NFLX\", \"QCOM\", \"PYPL\",\n",
    "    \"SBUX\", \"ISRG\", \"BKNG\", \"GILD\", \"REGN\", \"ADI\", \"TEAM\", \"ADSK\", \"ILMN\", \"DXCM\",\n",
    "    \"WDAY\", \"MNST\", \"NXPI\", \"LULU\", \"EA\", \"PAYX\", \"DDOG\", \"TTD\", \"VRTX\", \"LRCX\",\n",
    "    \"KLAC\", \"CDW\", \"ROST\", \"AMAT\", \"FTNT\", \"CDNS\", \"SNPS\", \"ALGN\", \"IDXX\", \"MRNA\",\n",
    "    \"ZM\", \"MU\", \"PANW\", \"CTAS\", \"ODFL\", \"BMRN\", \"MRVL\", \"SGEN\", \"XEL\", \"ORLY\",\n",
    "    \"TMUS\", \"BIIB\", \"DOCU\", \"VRSK\", \"MELI\", \"EXC\", \"KDP\", \"ETSY\", \"CRWD\", \"OKTA\",\n",
    "    \"GFS\", \"RIVN\", \"LCID\", \"CPRT\", \"FAST\", \"ANSS\", \"CERN\", \"AEP\", \"JD\", \"ABNB\",\n",
    "    \"EBAY\", \"SPLK\", \"CHTR\", \"FTNT\", \"IDXX\", \"ILMN\", \"FAST\", \"MAR\", \"TTWO\", \"EXPE\",\n",
    "    \"SIRI\", \"SWKS\", \"MTCH\", \"CMG\", \"BMRN\", \"SNOW\", \"ODFL\", \"CSGP\", \"ZS\", \"EPAM\",\n",
    "    \"ATUS\", \"NTAP\", \"XEL\", \"LBTYA\", \"LUMN\", \"CSCO\", \"ACN\", \"ADP\", \"ALL\", \"AMT\",\n",
    "    \"AMGN\", \"AXP\", \"BA\", \"BAC\", \"BK\", \"BLK\", \"BMY\", \"BRK.B\", \"C\", \"CAT\", \"CHD\",\n",
    "    \"CL\", \"CMI\", \"COF\", \"COP\", \"CRM\", \"CVS\", \"CVX\", \"D\", \"DD\", \"DE\", \"DHR\", \"DIS\",\n",
    "    \"DOW\", \"DUK\", \"EMR\", \"F\", \"FDX\", \"GD\", \"GE\", \"GM\", \"GS\", \"HD\", \"HON\", \"IBM\",\n",
    "    \"INTC\", \"JNJ\", \"JPM\", \"KHC\", \"KO\", \"LIN\", \"LLY\", \"LMT\", \"LOW\", \"MCD\", \"MMM\",\n",
    "    \"MO\", \"MRK\", \"MS\", \"NEE\", \"NKE\", \"PFE\", \"PG\", \"PM\", \"RTX\", \"SCHW\", \"SO\", \"SPG\",\n",
    "    \"T\", \"TGT\", \"TMO\", \"UNH\", \"UNP\", \"UPS\", \"USB\", \"V\", \"VZ\", \"WBA\", \"WFC\", \"WMT\",\n",
    "    \"XOM\", \"ZM\"\n",
    "]"
   ]
  },
  {
   "cell_type": "code",
   "execution_count": 2,
   "metadata": {},
   "outputs": [],
   "source": [
    "additional_nasdaq_250 = [\n",
    "    'AAL', 'AAXN', 'ADTN', 'ALXN', 'AMBA', 'AMED', 'AMKR', 'AOSL', 'ARCC', 'ARNA',\n",
    "    'ATVI', 'BIDU', 'CA', 'CELG', 'CHKP', 'CHRW', 'CSX', 'CTSH', 'CTXS', 'DLTR',\n",
    "    'EIDX', 'ENPH', 'ETFC', 'EXPD', 'FB', 'FISV', 'FOX', 'FOXA', 'HAS', 'HSIC',\n",
    "    'INCY', 'INTU', 'LBTYK', 'MCHP', 'MDLZ', 'MXIM', 'NLOK', 'NTES', 'PCAR', 'PTC',\n",
    "    'SPSC', 'SRPT', 'STMP', 'STX', 'SYY', 'TSCO', 'ULTA', 'WDC', 'XLNX', 'XRAY',\n",
    "    'YNDX', 'ZNGA', 'ZYXI', 'AAON', 'AAWW', 'ABAX', 'ABMD', 'ACAD', 'ACGL', 'ACHC',\n",
    "    'ACIW', 'ACLS', 'ACMR', 'ACRX', 'ACST', 'ACTG', 'ADMA', 'ADMP', 'ADUS', 'ADXS',\n",
    "    'AEIS', 'AEY', 'AFMD', 'AGNC', 'AGRX', 'AGYS', 'AINV', 'AIRI', 'AKAM', 'AKBA',\n",
    "    'AKCA', 'AKRX', 'AKTS', 'ALCO', 'ALDR', 'ALKS', 'ALLK', 'ALLO', 'ALNY', 'ALRM',\n",
    "    'AMAG', 'AMCX', 'AMNB', 'AMPH', 'AMRK', 'AMRN', 'AMRS', 'AMSC', 'AMSF', 'AMSWA',\n",
    "    'AMWD', 'ANAB', 'ANDE', 'ANGI', 'ANGO', 'ANIK', 'ANIP', 'ANTE', 'ANY', 'APA',\n",
    "    'APDN', 'APEI', 'APEN', 'APLS', 'APOG', 'APPF', 'APPN', 'APPS', 'APTO', 'APWC',\n",
    "    'AQB', 'AQMS', 'AQST', 'ARAV', 'ARAY', 'ARCT', 'ARDX', 'AREC', 'ARGX', 'ARKO',\n",
    "    'ARQL', 'ARTL', 'ARTNA', 'ARTW', 'ARVN', 'ARWR', 'ARYA', 'ARYD', 'ASMB', 'ASND',\n",
    "    'ASPS', 'ASRT', 'ASRV', 'ASTC', 'ASTE', 'ASYS', 'ATEC', 'ATEX', 'ATHE', 'ATHX',\n",
    "    'ATIS', 'ATLC', 'ATLO', 'ATNI', 'ATNX', 'ATOM', 'ATOS', 'ATRA', 'ATRC', 'ATRI',\n",
    "    'ATRO', 'ATRS', 'ATSG', 'AUB', 'AUBN', 'AUDC', 'AUPH', 'AUTO', 'AUY', 'AVAV',\n",
    "    'AVDL', 'AVEO', 'AVGR', 'AVID', 'AVNW', 'AVXL', 'AWRE', 'AXAS', 'AXDX', 'AXGN',\n",
    "    'AXNX', 'AXSM', 'AXTI', 'AY', 'AYTU', 'AZPN'\n",
    "]"
   ]
  },
  {
   "cell_type": "code",
   "execution_count": 3,
   "metadata": {},
   "outputs": [],
   "source": [
    "new_nasdaq_500 = [\n",
    "    'AACG', 'AACI', 'AACIU', 'AADI', 'AAIC', 'AAME', 'AAOI', 'AATC', 'AAWW', 'AB', 'ABB', 'ABBV',\n",
    "    'ABC', 'ABCB', 'ABCL', 'ABCM', 'ABEO', 'ABG', 'ABIO', 'ABM', 'ABNB', 'ABOS', 'ABR', 'ABST',\n",
    "    'ABT', 'ABTX', 'ABUS', 'ACAD', 'ACAH', 'ACAQ', 'ACB', 'ACBI', 'ACC', 'ACCD', 'ACCO', 'ACER',\n",
    "    'ACET', 'ACGL', 'ACH', 'ACHC', 'ACHL', 'ACHV', 'ACI', 'ACII', 'ACIU', 'ACIW', 'ACLS', 'ACM',\n",
    "    'ACMR', 'ACN', 'ACNB', 'ACOR', 'ACQR', 'ACR', 'ACRE', 'ACRS', 'ACRX', 'ACST', 'ACT', 'ACTG',\n",
    "    'ACU', 'ACVA', 'ACXP', 'ADAG', 'ADAL', 'ADAP', 'ADC', 'ADER', 'ADES', 'ADM', 'ADMA', 'ADMP',\n",
    "    'ADMS', 'ADN', 'ADNT', 'ADPT', 'ADRT', 'ADT', 'ADTH', 'ADTX', 'ADUS', 'ADV', 'ADVM', 'ADX',\n",
    "    'ADXS', 'AE', 'AEE', 'AEG', 'AEHR', 'AEI', 'AEIS', 'AEL', 'AEM', 'AEMD', 'AENZ', 'AEO', 'AER',\n",
    "    'AERC', 'AERI', 'AES', 'AEVA', 'AEY', 'AEYE', 'AEZS', 'AFAC', 'AFAQ', 'AFBI', 'AFCG', 'AFG',\n",
    "    'AFIB', 'AFIN', 'AFMD', 'AFRM', 'AFYA', 'AG', 'AGBA', 'AGC', 'AGCO', 'AGD', 'AGEN', 'AGFS',\n",
    "    'AGFY', 'AGI', 'AGIL', 'AGIO', 'AGL', 'AGLE', 'AGM', 'AGMH', 'AGN', 'AGO', 'AGR', 'AGRO',\n",
    "    'AGS', 'AGTC', 'AGX', 'AHAC', 'AHCO', 'AHH', 'AHI', 'AHPA', 'AHT', 'AI', 'AIG', 'AIH', 'AIHS',\n",
    "    'AIKI', 'AIM', 'AIMC', 'AINC', 'AINV', 'AIR', 'AIRC', 'AIRG', 'AIRI', 'AIRT', 'AIT', 'AIV',\n",
    "    'AIZ', 'AJG', 'AJRD', 'AJX', 'AKA', 'AKAM', 'AKBA', 'AKCA', 'AKER', 'AKIC', 'AKO', 'AKR',\n",
    "    'AKRO', 'AKTX', 'AL', 'ALB', 'ALBO', 'ALC', 'ALDX', 'ALE', 'ALEC', 'ALEX', 'ALF', 'ALG', 'ALGM',\n",
    "    'ALGS', 'ALGT', 'ALIM', 'ALJJ', 'ALK', 'ALKT', 'ALLE', 'ALLK', 'ALLO', 'ALLT', 'ALLY', 'ALNA',\n",
    "    'ALOR', 'ALOT', 'ALPN', 'ALPP', 'ALRN', 'ALRS', 'ALSN', 'ALT', 'ALTA', 'ALTO', 'ALTR', 'ALTU',\n",
    "    'ALUS', 'ALV', 'ALVR', 'ALX', 'ALXO', 'ALYA', 'AM', 'AMAL', 'AMBA', 'AMBC', 'AMBP', 'AMC',\n",
    "    'AMCR', 'AME', 'AMEH', 'AMH', 'AMK', 'AMN', 'AMOT', 'AMOV', 'AMP', 'AMPE', 'AMPG', 'AMPL',\n",
    "    'AMPS', 'AMPY', 'AMRB', 'AMRC', 'AMRX', 'AMS', 'AMSF', 'AMST', 'AMTB', 'AMTI', 'AMTX', 'AMWL',\n",
    "    'AMX', 'AMYT', 'AN', 'ANAC', 'ANAT', 'ANDR', 'ANEB', 'ANET', 'ANF', 'ANGI', 'ANGO', 'ANIK',\n",
    "    'ANIP', 'ANIX', 'ANNX', 'ANPC', 'ANSS', 'ANVS', 'ANY', 'ANZU', 'AOD', 'AOMR', 'AON', 'AORT',\n",
    "    'AOUT', 'APA', 'APAC', 'APAM', 'APDN', 'APG', 'APH', 'API', 'APLE', 'APLT', 'APM', 'APRE',\n",
    "    'APRN', 'APSG', 'APT', 'APTX', 'APVO', 'APYX', 'AQN', 'AQUA', 'AR', 'ARBG', 'ARC', 'ARCB',\n",
    "    'ARCE', 'ARCH', 'ARCO', 'ARE', 'ARES', 'ARGX', 'ARGO', 'ARGT', 'ARI', 'ARKR', 'ARLO', 'ARLP',\n",
    "    'ARMK', 'ARNC', 'AROC', 'AROW', 'ARPO', 'ARQT', 'ARR', 'ARRY', 'ARTA', 'ARW', 'ASAN', 'ASAQ',\n",
    "    'ASC', 'ASET', 'ASGN', 'ASH', 'ASIX', 'ASML', 'ASND', 'ASO', 'ASPA', 'ASPN', 'ASPU', 'ASUR',\n",
    "    'ASX', 'AT', 'ATA', 'ATAI', 'ATAX', 'ATEN', 'ATER', 'ATGE', 'ATHA', 'ATHM', 'ATI', 'ATIF',\n",
    "    'ATIP', 'ATKR', 'ATLCP', 'ATNF', 'ATO', 'ATR', 'ATRI', 'ATRO', 'ATSG', 'ATTO', 'ATXI', 'AU',\n",
    "    'AUD', 'AURA', 'AUUD', 'AUVI', 'AVA', 'AVAC', 'AVAH', 'AVB', 'AVCO', 'AVD', 'AVDR', 'AVGO',\n",
    "    'AVGOP', 'AVGR', 'AVIR', 'AVK', 'AVNS', 'AVO', 'AVPT', 'AVRO', 'AVT', 'AVTX', 'AVY', 'AWI',\n",
    "    'AWK', 'AWR', 'AWX', 'AX', 'AXL', 'AXNX', 'AXP', 'AXR', 'AXS', 'AXTA', 'AY', 'AYI', 'AYRO',\n",
    "    'AZEK', 'AZN', 'AZO', 'AZRE', 'AZTA', 'AZUL'\n",
    "]\n"
   ]
  },
  {
   "cell_type": "code",
   "execution_count": 4,
   "metadata": {},
   "outputs": [
    {
     "name": "stdout",
     "output_type": "stream",
     "text": [
      "Total companies listed: 762\n",
      "Total unique companies: 706\n",
      "Duplicates: ['AVGO', 'ASML', 'CSCO', 'ILMN', 'FTNT', 'IDXX', 'ZM', 'ODFL', 'BMRN', 'XEL', 'FAST', 'ANSS', 'ABNB', 'FTNT', 'IDXX', 'ILMN', 'FAST', 'BMRN', 'ODFL', 'XEL', 'CSCO', 'ACN', 'AXP', 'ZM', 'AMBA', 'AAWW', 'ACAD', 'ACGL', 'ACHC', 'ACIW', 'ACLS', 'ACMR', 'ACRX', 'ACST', 'ACTG', 'ADMA', 'ADMP', 'ADUS', 'ADXS', 'AEIS', 'AEY', 'AFMD', 'AINV', 'AIRI', 'AKAM', 'AKBA', 'AKCA', 'ALLK', 'ALLO', 'AMSF', 'ANGI', 'ANGO', 'ANIK', 'ANIP', 'ANY', 'APA', 'APDN', 'ARGX', 'ASND', 'ATRI', 'ATRO', 'ATSG', 'AVGR', 'AXNX', 'AY', 'AAWW', 'ABNB', 'ACAD', 'ACGL', 'ACHC', 'ACIW', 'ACLS', 'ACMR', 'ACN', 'ACRX', 'ACST', 'ACTG', 'ADMA', 'ADMP', 'ADUS', 'ADXS', 'AEIS', 'AEY', 'AFMD', 'AINV', 'AIRI', 'AKAM', 'AKBA', 'AKCA', 'ALLK', 'ALLO', 'AMBA', 'AMSF', 'ANGI', 'ANGO', 'ANIK', 'ANIP', 'ANSS', 'ANY', 'APA', 'APDN', 'ARGX', 'ASML', 'ASND', 'ATRI', 'ATRO', 'ATSG', 'AVGO', 'AVGR', 'AXNX', 'AXP', 'AY']\n"
     ]
    }
   ],
   "source": [
    "all_companies = nasdaq_250_unique + additional_nasdaq_250 + new_nasdaq_500\n",
    "\n",
    "# Check for duplicates\n",
    "unique_companies = set(all_companies)\n",
    "duplicates = [company for company in all_companies if all_companies.count(company) > 1]\n",
    "\n",
    "print(f\"Total companies listed: {len(all_companies)}\")\n",
    "print(f\"Total unique companies: {len(unique_companies)}\")\n",
    "print(f\"Duplicates: {duplicates}\")"
   ]
  },
  {
   "cell_type": "code",
   "execution_count": null,
   "metadata": {},
   "outputs": [],
   "source": []
  }
 ],
 "metadata": {
  "kernelspec": {
   "display_name": "Python 3",
   "language": "python",
   "name": "python3"
  },
  "language_info": {
   "codemirror_mode": {
    "name": "ipython",
    "version": 3
   },
   "file_extension": ".py",
   "mimetype": "text/x-python",
   "name": "python",
   "nbconvert_exporter": "python",
   "pygments_lexer": "ipython3",
   "version": "3.10.12"
  }
 },
 "nbformat": 4,
 "nbformat_minor": 2
}
