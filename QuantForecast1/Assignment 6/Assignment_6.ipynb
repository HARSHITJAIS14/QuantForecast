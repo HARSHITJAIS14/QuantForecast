{
  "metadata": {
    "kernelspec": {
      "display_name": "Python 3",
      "name": "python3"
    },
    "language_info": {
      "name": "python",
      "version": "3.10.13",
      "mimetype": "text/x-python",
      "codemirror_mode": {
        "name": "ipython",
        "version": 3
      },
      "pygments_lexer": "ipython3",
      "nbconvert_exporter": "python",
      "file_extension": ".py"
    },
    "kaggle": {
      "accelerator": "none",
      "dataSources": [
        {
          "sourceId": 8870933,
          "sourceType": "datasetVersion",
          "datasetId": 5338870
        }
      ],
      "dockerImageVersionId": 30732,
      "isInternetEnabled": true,
      "language": "python",
      "sourceType": "notebook",
      "isGpuEnabled": false
    },
    "colab": {
      "provenance": [],
      "gpuType": "T4"
    },
    "accelerator": "GPU"
  },
  "nbformat_minor": 0,
  "nbformat": 4,
  "cells": [
    {
      "source": [
        "\n",
        "# IMPORTANT: RUN THIS CELL IN ORDER TO IMPORT YOUR KAGGLE DATA SOURCES\n",
        "# TO THE CORRECT LOCATION (/kaggle/input) IN YOUR NOTEBOOK,\n",
        "# THEN FEEL FREE TO DELETE THIS CELL.\n",
        "# NOTE: THIS NOTEBOOK ENVIRONMENT DIFFERS FROM KAGGLE'S PYTHON\n",
        "# ENVIRONMENT SO THERE MAY BE MISSING LIBRARIES USED BY YOUR\n",
        "# NOTEBOOK.\n",
        "\n",
        "import os\n",
        "import sys\n",
        "from tempfile import NamedTemporaryFile\n",
        "from urllib.request import urlopen\n",
        "from urllib.parse import unquote, urlparse\n",
        "from urllib.error import HTTPError\n",
        "from zipfile import ZipFile\n",
        "import tarfile\n",
        "import shutil\n",
        "\n",
        "CHUNK_SIZE = 40960\n",
        "DATA_SOURCE_MAPPING = 'spam-dataset:https%3A%2F%2Fstorage.googleapis.com%2Fkaggle-data-sets%2F5338870%2F8870933%2Fbundle%2Farchive.zip%3FX-Goog-Algorithm%3DGOOG4-RSA-SHA256%26X-Goog-Credential%3Dgcp-kaggle-com%2540kaggle-161607.iam.gserviceaccount.com%252F20240705%252Fauto%252Fstorage%252Fgoog4_request%26X-Goog-Date%3D20240705T185255Z%26X-Goog-Expires%3D259200%26X-Goog-SignedHeaders%3Dhost%26X-Goog-Signature%3D3e21c141f6715ac1101f99551ddfefd805c13f0f34dd935543b653dede19e3d0a325eb919f33019ef3ccd393c4c85b88affae1a4fea25fd49d2b47f50593c0112f7c2093d5f0354887ebb97ba323a4de65eb26df32d1b23c5427f5fb2a78d7ad315a68b044f0f3e25d87c2f3e195fa1ca93df1e2d2fcebd0f504de840ab0e59d916fb209ed68c67471af3e5373a6daa8dbc84c1efad5e705df96b96e1c3dd6ab934305f6087dab707a1156053d7accd29165e8ba7bba2e3f2b9e197f970658e6465f26998ffe45741d08016475d2520121cc70de6eea362a860b60e830ad7f3ed9676dbe16efbc814543b65c17fe7a3e9e00daaaf27a26529252594573313624'\n",
        "\n",
        "KAGGLE_INPUT_PATH='/kaggle/input'\n",
        "KAGGLE_WORKING_PATH='/kaggle/working'\n",
        "KAGGLE_SYMLINK='kaggle'\n",
        "\n",
        "!umount /kaggle/input/ 2> /dev/null\n",
        "shutil.rmtree('/kaggle/input', ignore_errors=True)\n",
        "os.makedirs(KAGGLE_INPUT_PATH, 0o777, exist_ok=True)\n",
        "os.makedirs(KAGGLE_WORKING_PATH, 0o777, exist_ok=True)\n",
        "\n",
        "try:\n",
        "  os.symlink(KAGGLE_INPUT_PATH, os.path.join(\"..\", 'input'), target_is_directory=True)\n",
        "except FileExistsError:\n",
        "  pass\n",
        "try:\n",
        "  os.symlink(KAGGLE_WORKING_PATH, os.path.join(\"..\", 'working'), target_is_directory=True)\n",
        "except FileExistsError:\n",
        "  pass\n",
        "\n",
        "for data_source_mapping in DATA_SOURCE_MAPPING.split(','):\n",
        "    directory, download_url_encoded = data_source_mapping.split(':')\n",
        "    download_url = unquote(download_url_encoded)\n",
        "    filename = urlparse(download_url).path\n",
        "    destination_path = os.path.join(KAGGLE_INPUT_PATH, directory)\n",
        "    try:\n",
        "        with urlopen(download_url) as fileres, NamedTemporaryFile() as tfile:\n",
        "            total_length = fileres.headers['content-length']\n",
        "            print(f'Downloading {directory}, {total_length} bytes compressed')\n",
        "            dl = 0\n",
        "            data = fileres.read(CHUNK_SIZE)\n",
        "            while len(data) > 0:\n",
        "                dl += len(data)\n",
        "                tfile.write(data)\n",
        "                done = int(50 * dl / int(total_length))\n",
        "                sys.stdout.write(f\"\\r[{'=' * done}{' ' * (50-done)}] {dl} bytes downloaded\")\n",
        "                sys.stdout.flush()\n",
        "                data = fileres.read(CHUNK_SIZE)\n",
        "            if filename.endswith('.zip'):\n",
        "              with ZipFile(tfile) as zfile:\n",
        "                zfile.extractall(destination_path)\n",
        "            else:\n",
        "              with tarfile.open(tfile.name) as tarfile:\n",
        "                tarfile.extractall(destination_path)\n",
        "            print(f'\\nDownloaded and uncompressed: {directory}')\n",
        "    except HTTPError as e:\n",
        "        print(f'Failed to load (likely expired) {download_url} to path {destination_path}')\n",
        "        continue\n",
        "    except OSError as e:\n",
        "        print(f'Failed to load {download_url} to path {destination_path}')\n",
        "        continue\n",
        "\n",
        "print('Data source import complete.')\n"
      ],
      "metadata": {
        "id": "SFqcgdU0PhO3",
        "colab": {
          "base_uri": "https://localhost:8080/"
        },
        "outputId": "7a1caca3-019b-4a9d-f3a7-74831355f3d6"
      },
      "cell_type": "code",
      "outputs": [
        {
          "output_type": "stream",
          "name": "stdout",
          "text": [
            "Downloading spam-dataset, 215934 bytes compressed\n",
            "[==================================================] 215934 bytes downloaded\n",
            "Downloaded and uncompressed: spam-dataset\n",
            "Data source import complete.\n"
          ]
        }
      ],
      "execution_count": null
    },
    {
      "cell_type": "code",
      "source": [
        "# This Python 3 environment comes with many helpful analytics libraries installed\n",
        "# It is defined by the kaggle/python Docker image: https://github.com/kaggle/docker-python\n",
        "# For example, here's several helpful packages to load\n",
        "\n",
        "import numpy as np # linear algebra\n",
        "import pandas as pd # data processing, CSV file I/O (e.g. pd.read_csv)\n",
        "\n",
        "# Input data files are available in the read-only \"../input/\" directory\n",
        "# For example, running this (by clicking run or pressing Shift+Enter) will list all files under the input directory\n",
        "\n",
        "import os\n",
        "\n",
        "\n",
        "# You can write up to 20GB to the current directory (/kaggle/working/) that gets preserved as output when you create a version using \"Save & Run All\"\n",
        "# You can also write temporary files to /kaggle/temp/, but they won't be saved outside of the current session"
      ],
      "metadata": {
        "_uuid": "8f2839f25d086af736a60e9eeb907d3b93b6e0e5",
        "_cell_guid": "b1076dfc-b9ad-4769-8c92-a6c4dae69d19",
        "execution": {
          "iopub.status.busy": "2024-07-05T18:47:24.320812Z",
          "iopub.execute_input": "2024-07-05T18:47:24.321364Z",
          "iopub.status.idle": "2024-07-05T18:47:24.761121Z",
          "shell.execute_reply.started": "2024-07-05T18:47:24.321322Z",
          "shell.execute_reply": "2024-07-05T18:47:24.759607Z"
        },
        "trusted": true,
        "id": "gIEesz2mPhO5"
      },
      "execution_count": null,
      "outputs": []
    },
    {
      "cell_type": "markdown",
      "source": [
        "# Importing Modules"
      ],
      "metadata": {
        "id": "EFT-Jmp8PhO6"
      }
    },
    {
      "cell_type": "code",
      "source": [
        "import nltk\n"
      ],
      "metadata": {
        "execution": {
          "iopub.status.busy": "2024-07-05T18:47:24.764143Z",
          "iopub.execute_input": "2024-07-05T18:47:24.764647Z",
          "iopub.status.idle": "2024-07-05T18:47:25.593586Z",
          "shell.execute_reply.started": "2024-07-05T18:47:24.764614Z",
          "shell.execute_reply": "2024-07-05T18:47:25.592344Z"
        },
        "trusted": true,
        "id": "CHQuR-xsPhO7"
      },
      "execution_count": null,
      "outputs": []
    },
    {
      "cell_type": "markdown",
      "source": [
        "# Taking input"
      ],
      "metadata": {
        "id": "A4GSKwx9PhO8"
      }
    },
    {
      "cell_type": "code",
      "source": [
        "df=pd.read_csv(\"/kaggle/input/spam-dataset/spam.csv\",encoding='latin-1')"
      ],
      "metadata": {
        "execution": {
          "iopub.status.busy": "2024-07-05T18:47:25.595069Z",
          "iopub.execute_input": "2024-07-05T18:47:25.595434Z",
          "iopub.status.idle": "2024-07-05T18:47:25.62449Z",
          "shell.execute_reply.started": "2024-07-05T18:47:25.595395Z",
          "shell.execute_reply": "2024-07-05T18:47:25.623276Z"
        },
        "trusted": true,
        "id": "dt7xW4dtPhO9"
      },
      "execution_count": null,
      "outputs": []
    },
    {
      "cell_type": "code",
      "source": [
        "df.info()"
      ],
      "metadata": {
        "execution": {
          "iopub.status.busy": "2024-07-05T18:47:25.626146Z",
          "iopub.execute_input": "2024-07-05T18:47:25.626645Z",
          "iopub.status.idle": "2024-07-05T18:47:25.642433Z",
          "shell.execute_reply.started": "2024-07-05T18:47:25.6266Z",
          "shell.execute_reply": "2024-07-05T18:47:25.641111Z"
        },
        "trusted": true,
        "id": "M0KZKcnEPhO-",
        "outputId": "d2f1cbea-1137-4c86-d338-e59c137a5a45",
        "colab": {
          "base_uri": "https://localhost:8080/"
        }
      },
      "execution_count": null,
      "outputs": [
        {
          "output_type": "stream",
          "name": "stdout",
          "text": [
            "<class 'pandas.core.frame.DataFrame'>\n",
            "RangeIndex: 5572 entries, 0 to 5571\n",
            "Data columns (total 5 columns):\n",
            " #   Column      Non-Null Count  Dtype \n",
            "---  ------      --------------  ----- \n",
            " 0   v1          5572 non-null   object\n",
            " 1   v2          5572 non-null   object\n",
            " 2   Unnamed: 2  50 non-null     object\n",
            " 3   Unnamed: 3  12 non-null     object\n",
            " 4   Unnamed: 4  6 non-null      object\n",
            "dtypes: object(5)\n",
            "memory usage: 217.8+ KB\n"
          ]
        }
      ]
    },
    {
      "cell_type": "code",
      "source": [
        "df.head()"
      ],
      "metadata": {
        "execution": {
          "iopub.status.busy": "2024-07-05T18:47:25.646389Z",
          "iopub.execute_input": "2024-07-05T18:47:25.647214Z",
          "iopub.status.idle": "2024-07-05T18:47:25.665559Z",
          "shell.execute_reply.started": "2024-07-05T18:47:25.64716Z",
          "shell.execute_reply": "2024-07-05T18:47:25.664226Z"
        },
        "trusted": true,
        "id": "3nFfLvcCPhO-",
        "outputId": "5af45bd7-6ea8-433c-8c61-7cad178e4e03",
        "colab": {
          "base_uri": "https://localhost:8080/",
          "height": 206
        }
      },
      "execution_count": null,
      "outputs": [
        {
          "output_type": "execute_result",
          "data": {
            "text/plain": [
              "     v1                                                 v2 Unnamed: 2  \\\n",
              "0   ham  Go until jurong point, crazy.. Available only ...        NaN   \n",
              "1   ham                      Ok lar... Joking wif u oni...        NaN   \n",
              "2  spam  Free entry in 2 a wkly comp to win FA Cup fina...        NaN   \n",
              "3   ham  U dun say so early hor... U c already then say...        NaN   \n",
              "4   ham  Nah I don't think he goes to usf, he lives aro...        NaN   \n",
              "\n",
              "  Unnamed: 3 Unnamed: 4  \n",
              "0        NaN        NaN  \n",
              "1        NaN        NaN  \n",
              "2        NaN        NaN  \n",
              "3        NaN        NaN  \n",
              "4        NaN        NaN  "
            ],
            "text/html": [
              "\n",
              "  <div id=\"df-6b1dbdc8-3a71-4a91-8c1c-b3b602a5e5ed\" class=\"colab-df-container\">\n",
              "    <div>\n",
              "<style scoped>\n",
              "    .dataframe tbody tr th:only-of-type {\n",
              "        vertical-align: middle;\n",
              "    }\n",
              "\n",
              "    .dataframe tbody tr th {\n",
              "        vertical-align: top;\n",
              "    }\n",
              "\n",
              "    .dataframe thead th {\n",
              "        text-align: right;\n",
              "    }\n",
              "</style>\n",
              "<table border=\"1\" class=\"dataframe\">\n",
              "  <thead>\n",
              "    <tr style=\"text-align: right;\">\n",
              "      <th></th>\n",
              "      <th>v1</th>\n",
              "      <th>v2</th>\n",
              "      <th>Unnamed: 2</th>\n",
              "      <th>Unnamed: 3</th>\n",
              "      <th>Unnamed: 4</th>\n",
              "    </tr>\n",
              "  </thead>\n",
              "  <tbody>\n",
              "    <tr>\n",
              "      <th>0</th>\n",
              "      <td>ham</td>\n",
              "      <td>Go until jurong point, crazy.. Available only ...</td>\n",
              "      <td>NaN</td>\n",
              "      <td>NaN</td>\n",
              "      <td>NaN</td>\n",
              "    </tr>\n",
              "    <tr>\n",
              "      <th>1</th>\n",
              "      <td>ham</td>\n",
              "      <td>Ok lar... Joking wif u oni...</td>\n",
              "      <td>NaN</td>\n",
              "      <td>NaN</td>\n",
              "      <td>NaN</td>\n",
              "    </tr>\n",
              "    <tr>\n",
              "      <th>2</th>\n",
              "      <td>spam</td>\n",
              "      <td>Free entry in 2 a wkly comp to win FA Cup fina...</td>\n",
              "      <td>NaN</td>\n",
              "      <td>NaN</td>\n",
              "      <td>NaN</td>\n",
              "    </tr>\n",
              "    <tr>\n",
              "      <th>3</th>\n",
              "      <td>ham</td>\n",
              "      <td>U dun say so early hor... U c already then say...</td>\n",
              "      <td>NaN</td>\n",
              "      <td>NaN</td>\n",
              "      <td>NaN</td>\n",
              "    </tr>\n",
              "    <tr>\n",
              "      <th>4</th>\n",
              "      <td>ham</td>\n",
              "      <td>Nah I don't think he goes to usf, he lives aro...</td>\n",
              "      <td>NaN</td>\n",
              "      <td>NaN</td>\n",
              "      <td>NaN</td>\n",
              "    </tr>\n",
              "  </tbody>\n",
              "</table>\n",
              "</div>\n",
              "    <div class=\"colab-df-buttons\">\n",
              "\n",
              "  <div class=\"colab-df-container\">\n",
              "    <button class=\"colab-df-convert\" onclick=\"convertToInteractive('df-6b1dbdc8-3a71-4a91-8c1c-b3b602a5e5ed')\"\n",
              "            title=\"Convert this dataframe to an interactive table.\"\n",
              "            style=\"display:none;\">\n",
              "\n",
              "  <svg xmlns=\"http://www.w3.org/2000/svg\" height=\"24px\" viewBox=\"0 -960 960 960\">\n",
              "    <path d=\"M120-120v-720h720v720H120Zm60-500h600v-160H180v160Zm220 220h160v-160H400v160Zm0 220h160v-160H400v160ZM180-400h160v-160H180v160Zm440 0h160v-160H620v160ZM180-180h160v-160H180v160Zm440 0h160v-160H620v160Z\"/>\n",
              "  </svg>\n",
              "    </button>\n",
              "\n",
              "  <style>\n",
              "    .colab-df-container {\n",
              "      display:flex;\n",
              "      gap: 12px;\n",
              "    }\n",
              "\n",
              "    .colab-df-convert {\n",
              "      background-color: #E8F0FE;\n",
              "      border: none;\n",
              "      border-radius: 50%;\n",
              "      cursor: pointer;\n",
              "      display: none;\n",
              "      fill: #1967D2;\n",
              "      height: 32px;\n",
              "      padding: 0 0 0 0;\n",
              "      width: 32px;\n",
              "    }\n",
              "\n",
              "    .colab-df-convert:hover {\n",
              "      background-color: #E2EBFA;\n",
              "      box-shadow: 0px 1px 2px rgba(60, 64, 67, 0.3), 0px 1px 3px 1px rgba(60, 64, 67, 0.15);\n",
              "      fill: #174EA6;\n",
              "    }\n",
              "\n",
              "    .colab-df-buttons div {\n",
              "      margin-bottom: 4px;\n",
              "    }\n",
              "\n",
              "    [theme=dark] .colab-df-convert {\n",
              "      background-color: #3B4455;\n",
              "      fill: #D2E3FC;\n",
              "    }\n",
              "\n",
              "    [theme=dark] .colab-df-convert:hover {\n",
              "      background-color: #434B5C;\n",
              "      box-shadow: 0px 1px 3px 1px rgba(0, 0, 0, 0.15);\n",
              "      filter: drop-shadow(0px 1px 2px rgba(0, 0, 0, 0.3));\n",
              "      fill: #FFFFFF;\n",
              "    }\n",
              "  </style>\n",
              "\n",
              "    <script>\n",
              "      const buttonEl =\n",
              "        document.querySelector('#df-6b1dbdc8-3a71-4a91-8c1c-b3b602a5e5ed button.colab-df-convert');\n",
              "      buttonEl.style.display =\n",
              "        google.colab.kernel.accessAllowed ? 'block' : 'none';\n",
              "\n",
              "      async function convertToInteractive(key) {\n",
              "        const element = document.querySelector('#df-6b1dbdc8-3a71-4a91-8c1c-b3b602a5e5ed');\n",
              "        const dataTable =\n",
              "          await google.colab.kernel.invokeFunction('convertToInteractive',\n",
              "                                                    [key], {});\n",
              "        if (!dataTable) return;\n",
              "\n",
              "        const docLinkHtml = 'Like what you see? Visit the ' +\n",
              "          '<a target=\"_blank\" href=https://colab.research.google.com/notebooks/data_table.ipynb>data table notebook</a>'\n",
              "          + ' to learn more about interactive tables.';\n",
              "        element.innerHTML = '';\n",
              "        dataTable['output_type'] = 'display_data';\n",
              "        await google.colab.output.renderOutput(dataTable, element);\n",
              "        const docLink = document.createElement('div');\n",
              "        docLink.innerHTML = docLinkHtml;\n",
              "        element.appendChild(docLink);\n",
              "      }\n",
              "    </script>\n",
              "  </div>\n",
              "\n",
              "\n",
              "<div id=\"df-393241b4-1c86-4eac-b0b4-111242925467\">\n",
              "  <button class=\"colab-df-quickchart\" onclick=\"quickchart('df-393241b4-1c86-4eac-b0b4-111242925467')\"\n",
              "            title=\"Suggest charts\"\n",
              "            style=\"display:none;\">\n",
              "\n",
              "<svg xmlns=\"http://www.w3.org/2000/svg\" height=\"24px\"viewBox=\"0 0 24 24\"\n",
              "     width=\"24px\">\n",
              "    <g>\n",
              "        <path d=\"M19 3H5c-1.1 0-2 .9-2 2v14c0 1.1.9 2 2 2h14c1.1 0 2-.9 2-2V5c0-1.1-.9-2-2-2zM9 17H7v-7h2v7zm4 0h-2V7h2v10zm4 0h-2v-4h2v4z\"/>\n",
              "    </g>\n",
              "</svg>\n",
              "  </button>\n",
              "\n",
              "<style>\n",
              "  .colab-df-quickchart {\n",
              "      --bg-color: #E8F0FE;\n",
              "      --fill-color: #1967D2;\n",
              "      --hover-bg-color: #E2EBFA;\n",
              "      --hover-fill-color: #174EA6;\n",
              "      --disabled-fill-color: #AAA;\n",
              "      --disabled-bg-color: #DDD;\n",
              "  }\n",
              "\n",
              "  [theme=dark] .colab-df-quickchart {\n",
              "      --bg-color: #3B4455;\n",
              "      --fill-color: #D2E3FC;\n",
              "      --hover-bg-color: #434B5C;\n",
              "      --hover-fill-color: #FFFFFF;\n",
              "      --disabled-bg-color: #3B4455;\n",
              "      --disabled-fill-color: #666;\n",
              "  }\n",
              "\n",
              "  .colab-df-quickchart {\n",
              "    background-color: var(--bg-color);\n",
              "    border: none;\n",
              "    border-radius: 50%;\n",
              "    cursor: pointer;\n",
              "    display: none;\n",
              "    fill: var(--fill-color);\n",
              "    height: 32px;\n",
              "    padding: 0;\n",
              "    width: 32px;\n",
              "  }\n",
              "\n",
              "  .colab-df-quickchart:hover {\n",
              "    background-color: var(--hover-bg-color);\n",
              "    box-shadow: 0 1px 2px rgba(60, 64, 67, 0.3), 0 1px 3px 1px rgba(60, 64, 67, 0.15);\n",
              "    fill: var(--button-hover-fill-color);\n",
              "  }\n",
              "\n",
              "  .colab-df-quickchart-complete:disabled,\n",
              "  .colab-df-quickchart-complete:disabled:hover {\n",
              "    background-color: var(--disabled-bg-color);\n",
              "    fill: var(--disabled-fill-color);\n",
              "    box-shadow: none;\n",
              "  }\n",
              "\n",
              "  .colab-df-spinner {\n",
              "    border: 2px solid var(--fill-color);\n",
              "    border-color: transparent;\n",
              "    border-bottom-color: var(--fill-color);\n",
              "    animation:\n",
              "      spin 1s steps(1) infinite;\n",
              "  }\n",
              "\n",
              "  @keyframes spin {\n",
              "    0% {\n",
              "      border-color: transparent;\n",
              "      border-bottom-color: var(--fill-color);\n",
              "      border-left-color: var(--fill-color);\n",
              "    }\n",
              "    20% {\n",
              "      border-color: transparent;\n",
              "      border-left-color: var(--fill-color);\n",
              "      border-top-color: var(--fill-color);\n",
              "    }\n",
              "    30% {\n",
              "      border-color: transparent;\n",
              "      border-left-color: var(--fill-color);\n",
              "      border-top-color: var(--fill-color);\n",
              "      border-right-color: var(--fill-color);\n",
              "    }\n",
              "    40% {\n",
              "      border-color: transparent;\n",
              "      border-right-color: var(--fill-color);\n",
              "      border-top-color: var(--fill-color);\n",
              "    }\n",
              "    60% {\n",
              "      border-color: transparent;\n",
              "      border-right-color: var(--fill-color);\n",
              "    }\n",
              "    80% {\n",
              "      border-color: transparent;\n",
              "      border-right-color: var(--fill-color);\n",
              "      border-bottom-color: var(--fill-color);\n",
              "    }\n",
              "    90% {\n",
              "      border-color: transparent;\n",
              "      border-bottom-color: var(--fill-color);\n",
              "    }\n",
              "  }\n",
              "</style>\n",
              "\n",
              "  <script>\n",
              "    async function quickchart(key) {\n",
              "      const quickchartButtonEl =\n",
              "        document.querySelector('#' + key + ' button');\n",
              "      quickchartButtonEl.disabled = true;  // To prevent multiple clicks.\n",
              "      quickchartButtonEl.classList.add('colab-df-spinner');\n",
              "      try {\n",
              "        const charts = await google.colab.kernel.invokeFunction(\n",
              "            'suggestCharts', [key], {});\n",
              "      } catch (error) {\n",
              "        console.error('Error during call to suggestCharts:', error);\n",
              "      }\n",
              "      quickchartButtonEl.classList.remove('colab-df-spinner');\n",
              "      quickchartButtonEl.classList.add('colab-df-quickchart-complete');\n",
              "    }\n",
              "    (() => {\n",
              "      let quickchartButtonEl =\n",
              "        document.querySelector('#df-393241b4-1c86-4eac-b0b4-111242925467 button');\n",
              "      quickchartButtonEl.style.display =\n",
              "        google.colab.kernel.accessAllowed ? 'block' : 'none';\n",
              "    })();\n",
              "  </script>\n",
              "</div>\n",
              "\n",
              "    </div>\n",
              "  </div>\n"
            ],
            "application/vnd.google.colaboratory.intrinsic+json": {
              "type": "dataframe",
              "variable_name": "df",
              "summary": "{\n  \"name\": \"df\",\n  \"rows\": 5572,\n  \"fields\": [\n    {\n      \"column\": \"v1\",\n      \"properties\": {\n        \"dtype\": \"category\",\n        \"num_unique_values\": 2,\n        \"samples\": [\n          \"spam\",\n          \"ham\"\n        ],\n        \"semantic_type\": \"\",\n        \"description\": \"\"\n      }\n    },\n    {\n      \"column\": \"v2\",\n      \"properties\": {\n        \"dtype\": \"string\",\n        \"num_unique_values\": 5169,\n        \"samples\": [\n          \"Did u download the fring app?\",\n          \"Pass dis to all ur contacts n see wat u get! Red;i'm in luv wid u. Blue;u put a smile on my face. Purple;u r realy hot. Pink;u r so swt. Orange;i thnk i lyk u. Green;i realy wana go out wid u. Yelow;i wnt u bck. Black;i'm jealous of u. Brown;i miss you Nw plz giv me one color\"\n        ],\n        \"semantic_type\": \"\",\n        \"description\": \"\"\n      }\n    },\n    {\n      \"column\": \"Unnamed: 2\",\n      \"properties\": {\n        \"dtype\": \"category\",\n        \"num_unique_values\": 43,\n        \"samples\": [\n          \" GOD said\",\n          \" SHE SHUDVETOLD U. DID URGRAN KNOW?NEWAY\"\n        ],\n        \"semantic_type\": \"\",\n        \"description\": \"\"\n      }\n    },\n    {\n      \"column\": \"Unnamed: 3\",\n      \"properties\": {\n        \"dtype\": \"category\",\n        \"num_unique_values\": 10,\n        \"samples\": [\n          \" \\\\\\\"OH No! COMPETITION\\\\\\\". Who knew\",\n          \" why to miss them\"\n        ],\n        \"semantic_type\": \"\",\n        \"description\": \"\"\n      }\n    },\n    {\n      \"column\": \"Unnamed: 4\",\n      \"properties\": {\n        \"dtype\": \"category\",\n        \"num_unique_values\": 5,\n        \"samples\": [\n          \"GNT:-)\\\"\",\n          \" one day these two will become FREINDS FOREVER!\\\"\"\n        ],\n        \"semantic_type\": \"\",\n        \"description\": \"\"\n      }\n    }\n  ]\n}"
            }
          },
          "metadata": {},
          "execution_count": 6
        }
      ]
    },
    {
      "cell_type": "code",
      "source": [
        "df.drop(columns=['Unnamed: 2','Unnamed: 3','Unnamed: 4'],inplace=True)"
      ],
      "metadata": {
        "execution": {
          "iopub.status.busy": "2024-07-05T18:47:25.667301Z",
          "iopub.execute_input": "2024-07-05T18:47:25.667793Z",
          "iopub.status.idle": "2024-07-05T18:47:25.675485Z",
          "shell.execute_reply.started": "2024-07-05T18:47:25.667747Z",
          "shell.execute_reply": "2024-07-05T18:47:25.674011Z"
        },
        "trusted": true,
        "id": "ZdvmLmcyPhPA"
      },
      "execution_count": null,
      "outputs": []
    },
    {
      "cell_type": "code",
      "source": [
        "df.rename(columns={'v1':'labels','v2':'text'},inplace=True)"
      ],
      "metadata": {
        "execution": {
          "iopub.status.busy": "2024-07-05T18:47:25.677182Z",
          "iopub.execute_input": "2024-07-05T18:47:25.677717Z",
          "iopub.status.idle": "2024-07-05T18:47:25.68874Z",
          "shell.execute_reply.started": "2024-07-05T18:47:25.677672Z",
          "shell.execute_reply": "2024-07-05T18:47:25.687283Z"
        },
        "trusted": true,
        "id": "eeDZtXOdPhPA"
      },
      "execution_count": null,
      "outputs": []
    },
    {
      "cell_type": "code",
      "source": [
        "df.head()"
      ],
      "metadata": {
        "execution": {
          "iopub.status.busy": "2024-07-05T18:47:25.690314Z",
          "iopub.execute_input": "2024-07-05T18:47:25.6912Z",
          "iopub.status.idle": "2024-07-05T18:47:25.705846Z",
          "shell.execute_reply.started": "2024-07-05T18:47:25.691149Z",
          "shell.execute_reply": "2024-07-05T18:47:25.704447Z"
        },
        "trusted": true,
        "id": "OQ4ae3WqPhPB",
        "outputId": "e5b9690f-4376-4b34-cf85-9fb21147d664",
        "colab": {
          "base_uri": "https://localhost:8080/",
          "height": 206
        }
      },
      "execution_count": null,
      "outputs": [
        {
          "output_type": "execute_result",
          "data": {
            "text/plain": [
              "  labels                                               text\n",
              "0    ham  Go until jurong point, crazy.. Available only ...\n",
              "1    ham                      Ok lar... Joking wif u oni...\n",
              "2   spam  Free entry in 2 a wkly comp to win FA Cup fina...\n",
              "3    ham  U dun say so early hor... U c already then say...\n",
              "4    ham  Nah I don't think he goes to usf, he lives aro..."
            ],
            "text/html": [
              "\n",
              "  <div id=\"df-373812c3-1073-4083-9dbd-2ebb2668b445\" class=\"colab-df-container\">\n",
              "    <div>\n",
              "<style scoped>\n",
              "    .dataframe tbody tr th:only-of-type {\n",
              "        vertical-align: middle;\n",
              "    }\n",
              "\n",
              "    .dataframe tbody tr th {\n",
              "        vertical-align: top;\n",
              "    }\n",
              "\n",
              "    .dataframe thead th {\n",
              "        text-align: right;\n",
              "    }\n",
              "</style>\n",
              "<table border=\"1\" class=\"dataframe\">\n",
              "  <thead>\n",
              "    <tr style=\"text-align: right;\">\n",
              "      <th></th>\n",
              "      <th>labels</th>\n",
              "      <th>text</th>\n",
              "    </tr>\n",
              "  </thead>\n",
              "  <tbody>\n",
              "    <tr>\n",
              "      <th>0</th>\n",
              "      <td>ham</td>\n",
              "      <td>Go until jurong point, crazy.. Available only ...</td>\n",
              "    </tr>\n",
              "    <tr>\n",
              "      <th>1</th>\n",
              "      <td>ham</td>\n",
              "      <td>Ok lar... Joking wif u oni...</td>\n",
              "    </tr>\n",
              "    <tr>\n",
              "      <th>2</th>\n",
              "      <td>spam</td>\n",
              "      <td>Free entry in 2 a wkly comp to win FA Cup fina...</td>\n",
              "    </tr>\n",
              "    <tr>\n",
              "      <th>3</th>\n",
              "      <td>ham</td>\n",
              "      <td>U dun say so early hor... U c already then say...</td>\n",
              "    </tr>\n",
              "    <tr>\n",
              "      <th>4</th>\n",
              "      <td>ham</td>\n",
              "      <td>Nah I don't think he goes to usf, he lives aro...</td>\n",
              "    </tr>\n",
              "  </tbody>\n",
              "</table>\n",
              "</div>\n",
              "    <div class=\"colab-df-buttons\">\n",
              "\n",
              "  <div class=\"colab-df-container\">\n",
              "    <button class=\"colab-df-convert\" onclick=\"convertToInteractive('df-373812c3-1073-4083-9dbd-2ebb2668b445')\"\n",
              "            title=\"Convert this dataframe to an interactive table.\"\n",
              "            style=\"display:none;\">\n",
              "\n",
              "  <svg xmlns=\"http://www.w3.org/2000/svg\" height=\"24px\" viewBox=\"0 -960 960 960\">\n",
              "    <path d=\"M120-120v-720h720v720H120Zm60-500h600v-160H180v160Zm220 220h160v-160H400v160Zm0 220h160v-160H400v160ZM180-400h160v-160H180v160Zm440 0h160v-160H620v160ZM180-180h160v-160H180v160Zm440 0h160v-160H620v160Z\"/>\n",
              "  </svg>\n",
              "    </button>\n",
              "\n",
              "  <style>\n",
              "    .colab-df-container {\n",
              "      display:flex;\n",
              "      gap: 12px;\n",
              "    }\n",
              "\n",
              "    .colab-df-convert {\n",
              "      background-color: #E8F0FE;\n",
              "      border: none;\n",
              "      border-radius: 50%;\n",
              "      cursor: pointer;\n",
              "      display: none;\n",
              "      fill: #1967D2;\n",
              "      height: 32px;\n",
              "      padding: 0 0 0 0;\n",
              "      width: 32px;\n",
              "    }\n",
              "\n",
              "    .colab-df-convert:hover {\n",
              "      background-color: #E2EBFA;\n",
              "      box-shadow: 0px 1px 2px rgba(60, 64, 67, 0.3), 0px 1px 3px 1px rgba(60, 64, 67, 0.15);\n",
              "      fill: #174EA6;\n",
              "    }\n",
              "\n",
              "    .colab-df-buttons div {\n",
              "      margin-bottom: 4px;\n",
              "    }\n",
              "\n",
              "    [theme=dark] .colab-df-convert {\n",
              "      background-color: #3B4455;\n",
              "      fill: #D2E3FC;\n",
              "    }\n",
              "\n",
              "    [theme=dark] .colab-df-convert:hover {\n",
              "      background-color: #434B5C;\n",
              "      box-shadow: 0px 1px 3px 1px rgba(0, 0, 0, 0.15);\n",
              "      filter: drop-shadow(0px 1px 2px rgba(0, 0, 0, 0.3));\n",
              "      fill: #FFFFFF;\n",
              "    }\n",
              "  </style>\n",
              "\n",
              "    <script>\n",
              "      const buttonEl =\n",
              "        document.querySelector('#df-373812c3-1073-4083-9dbd-2ebb2668b445 button.colab-df-convert');\n",
              "      buttonEl.style.display =\n",
              "        google.colab.kernel.accessAllowed ? 'block' : 'none';\n",
              "\n",
              "      async function convertToInteractive(key) {\n",
              "        const element = document.querySelector('#df-373812c3-1073-4083-9dbd-2ebb2668b445');\n",
              "        const dataTable =\n",
              "          await google.colab.kernel.invokeFunction('convertToInteractive',\n",
              "                                                    [key], {});\n",
              "        if (!dataTable) return;\n",
              "\n",
              "        const docLinkHtml = 'Like what you see? Visit the ' +\n",
              "          '<a target=\"_blank\" href=https://colab.research.google.com/notebooks/data_table.ipynb>data table notebook</a>'\n",
              "          + ' to learn more about interactive tables.';\n",
              "        element.innerHTML = '';\n",
              "        dataTable['output_type'] = 'display_data';\n",
              "        await google.colab.output.renderOutput(dataTable, element);\n",
              "        const docLink = document.createElement('div');\n",
              "        docLink.innerHTML = docLinkHtml;\n",
              "        element.appendChild(docLink);\n",
              "      }\n",
              "    </script>\n",
              "  </div>\n",
              "\n",
              "\n",
              "<div id=\"df-29141ffe-a056-47b5-ac1f-bd650176c732\">\n",
              "  <button class=\"colab-df-quickchart\" onclick=\"quickchart('df-29141ffe-a056-47b5-ac1f-bd650176c732')\"\n",
              "            title=\"Suggest charts\"\n",
              "            style=\"display:none;\">\n",
              "\n",
              "<svg xmlns=\"http://www.w3.org/2000/svg\" height=\"24px\"viewBox=\"0 0 24 24\"\n",
              "     width=\"24px\">\n",
              "    <g>\n",
              "        <path d=\"M19 3H5c-1.1 0-2 .9-2 2v14c0 1.1.9 2 2 2h14c1.1 0 2-.9 2-2V5c0-1.1-.9-2-2-2zM9 17H7v-7h2v7zm4 0h-2V7h2v10zm4 0h-2v-4h2v4z\"/>\n",
              "    </g>\n",
              "</svg>\n",
              "  </button>\n",
              "\n",
              "<style>\n",
              "  .colab-df-quickchart {\n",
              "      --bg-color: #E8F0FE;\n",
              "      --fill-color: #1967D2;\n",
              "      --hover-bg-color: #E2EBFA;\n",
              "      --hover-fill-color: #174EA6;\n",
              "      --disabled-fill-color: #AAA;\n",
              "      --disabled-bg-color: #DDD;\n",
              "  }\n",
              "\n",
              "  [theme=dark] .colab-df-quickchart {\n",
              "      --bg-color: #3B4455;\n",
              "      --fill-color: #D2E3FC;\n",
              "      --hover-bg-color: #434B5C;\n",
              "      --hover-fill-color: #FFFFFF;\n",
              "      --disabled-bg-color: #3B4455;\n",
              "      --disabled-fill-color: #666;\n",
              "  }\n",
              "\n",
              "  .colab-df-quickchart {\n",
              "    background-color: var(--bg-color);\n",
              "    border: none;\n",
              "    border-radius: 50%;\n",
              "    cursor: pointer;\n",
              "    display: none;\n",
              "    fill: var(--fill-color);\n",
              "    height: 32px;\n",
              "    padding: 0;\n",
              "    width: 32px;\n",
              "  }\n",
              "\n",
              "  .colab-df-quickchart:hover {\n",
              "    background-color: var(--hover-bg-color);\n",
              "    box-shadow: 0 1px 2px rgba(60, 64, 67, 0.3), 0 1px 3px 1px rgba(60, 64, 67, 0.15);\n",
              "    fill: var(--button-hover-fill-color);\n",
              "  }\n",
              "\n",
              "  .colab-df-quickchart-complete:disabled,\n",
              "  .colab-df-quickchart-complete:disabled:hover {\n",
              "    background-color: var(--disabled-bg-color);\n",
              "    fill: var(--disabled-fill-color);\n",
              "    box-shadow: none;\n",
              "  }\n",
              "\n",
              "  .colab-df-spinner {\n",
              "    border: 2px solid var(--fill-color);\n",
              "    border-color: transparent;\n",
              "    border-bottom-color: var(--fill-color);\n",
              "    animation:\n",
              "      spin 1s steps(1) infinite;\n",
              "  }\n",
              "\n",
              "  @keyframes spin {\n",
              "    0% {\n",
              "      border-color: transparent;\n",
              "      border-bottom-color: var(--fill-color);\n",
              "      border-left-color: var(--fill-color);\n",
              "    }\n",
              "    20% {\n",
              "      border-color: transparent;\n",
              "      border-left-color: var(--fill-color);\n",
              "      border-top-color: var(--fill-color);\n",
              "    }\n",
              "    30% {\n",
              "      border-color: transparent;\n",
              "      border-left-color: var(--fill-color);\n",
              "      border-top-color: var(--fill-color);\n",
              "      border-right-color: var(--fill-color);\n",
              "    }\n",
              "    40% {\n",
              "      border-color: transparent;\n",
              "      border-right-color: var(--fill-color);\n",
              "      border-top-color: var(--fill-color);\n",
              "    }\n",
              "    60% {\n",
              "      border-color: transparent;\n",
              "      border-right-color: var(--fill-color);\n",
              "    }\n",
              "    80% {\n",
              "      border-color: transparent;\n",
              "      border-right-color: var(--fill-color);\n",
              "      border-bottom-color: var(--fill-color);\n",
              "    }\n",
              "    90% {\n",
              "      border-color: transparent;\n",
              "      border-bottom-color: var(--fill-color);\n",
              "    }\n",
              "  }\n",
              "</style>\n",
              "\n",
              "  <script>\n",
              "    async function quickchart(key) {\n",
              "      const quickchartButtonEl =\n",
              "        document.querySelector('#' + key + ' button');\n",
              "      quickchartButtonEl.disabled = true;  // To prevent multiple clicks.\n",
              "      quickchartButtonEl.classList.add('colab-df-spinner');\n",
              "      try {\n",
              "        const charts = await google.colab.kernel.invokeFunction(\n",
              "            'suggestCharts', [key], {});\n",
              "      } catch (error) {\n",
              "        console.error('Error during call to suggestCharts:', error);\n",
              "      }\n",
              "      quickchartButtonEl.classList.remove('colab-df-spinner');\n",
              "      quickchartButtonEl.classList.add('colab-df-quickchart-complete');\n",
              "    }\n",
              "    (() => {\n",
              "      let quickchartButtonEl =\n",
              "        document.querySelector('#df-29141ffe-a056-47b5-ac1f-bd650176c732 button');\n",
              "      quickchartButtonEl.style.display =\n",
              "        google.colab.kernel.accessAllowed ? 'block' : 'none';\n",
              "    })();\n",
              "  </script>\n",
              "</div>\n",
              "\n",
              "    </div>\n",
              "  </div>\n"
            ],
            "application/vnd.google.colaboratory.intrinsic+json": {
              "type": "dataframe",
              "variable_name": "df",
              "summary": "{\n  \"name\": \"df\",\n  \"rows\": 5572,\n  \"fields\": [\n    {\n      \"column\": \"labels\",\n      \"properties\": {\n        \"dtype\": \"category\",\n        \"num_unique_values\": 2,\n        \"samples\": [\n          \"spam\",\n          \"ham\"\n        ],\n        \"semantic_type\": \"\",\n        \"description\": \"\"\n      }\n    },\n    {\n      \"column\": \"text\",\n      \"properties\": {\n        \"dtype\": \"string\",\n        \"num_unique_values\": 5169,\n        \"samples\": [\n          \"Did u download the fring app?\",\n          \"Pass dis to all ur contacts n see wat u get! Red;i'm in luv wid u. Blue;u put a smile on my face. Purple;u r realy hot. Pink;u r so swt. Orange;i thnk i lyk u. Green;i realy wana go out wid u. Yelow;i wnt u bck. Black;i'm jealous of u. Brown;i miss you Nw plz giv me one color\"\n        ],\n        \"semantic_type\": \"\",\n        \"description\": \"\"\n      }\n    }\n  ]\n}"
            }
          },
          "metadata": {},
          "execution_count": 9
        }
      ]
    },
    {
      "cell_type": "code",
      "source": [
        "df.info()\n",
        "df.shape"
      ],
      "metadata": {
        "execution": {
          "iopub.status.busy": "2024-07-05T18:47:25.707289Z",
          "iopub.execute_input": "2024-07-05T18:47:25.707642Z",
          "iopub.status.idle": "2024-07-05T18:47:25.726029Z",
          "shell.execute_reply.started": "2024-07-05T18:47:25.707613Z",
          "shell.execute_reply": "2024-07-05T18:47:25.724617Z"
        },
        "trusted": true,
        "id": "0bj9_tHFPhPB",
        "outputId": "6e6c3619-83c1-466d-e958-bb3ee02a080a",
        "colab": {
          "base_uri": "https://localhost:8080/"
        }
      },
      "execution_count": null,
      "outputs": [
        {
          "output_type": "stream",
          "name": "stdout",
          "text": [
            "<class 'pandas.core.frame.DataFrame'>\n",
            "RangeIndex: 5572 entries, 0 to 5571\n",
            "Data columns (total 2 columns):\n",
            " #   Column  Non-Null Count  Dtype \n",
            "---  ------  --------------  ----- \n",
            " 0   labels  5572 non-null   object\n",
            " 1   text    5572 non-null   object\n",
            "dtypes: object(2)\n",
            "memory usage: 87.2+ KB\n"
          ]
        },
        {
          "output_type": "execute_result",
          "data": {
            "text/plain": [
              "(5572, 2)"
            ]
          },
          "metadata": {},
          "execution_count": 10
        }
      ]
    },
    {
      "cell_type": "code",
      "source": [
        "df.iloc[0][0]"
      ],
      "metadata": {
        "execution": {
          "iopub.status.busy": "2024-07-05T18:47:25.727436Z",
          "iopub.execute_input": "2024-07-05T18:47:25.72785Z",
          "iopub.status.idle": "2024-07-05T18:47:25.741231Z",
          "shell.execute_reply.started": "2024-07-05T18:47:25.727817Z",
          "shell.execute_reply": "2024-07-05T18:47:25.740133Z"
        },
        "trusted": true,
        "id": "dclhZIVZPhPC",
        "outputId": "6eeb2aae-fc97-4baa-c035-1cf45839ecaa",
        "colab": {
          "base_uri": "https://localhost:8080/",
          "height": 35
        }
      },
      "execution_count": null,
      "outputs": [
        {
          "output_type": "execute_result",
          "data": {
            "text/plain": [
              "'ham'"
            ],
            "application/vnd.google.colaboratory.intrinsic+json": {
              "type": "string"
            }
          },
          "metadata": {},
          "execution_count": 11
        }
      ]
    },
    {
      "cell_type": "markdown",
      "source": [
        "# Preprocessing"
      ],
      "metadata": {
        "id": "DzOldkkTPhPC"
      }
    },
    {
      "cell_type": "code",
      "source": [
        "import re\n",
        "from nltk.corpus import stopwords,wordnet\n",
        "from nltk.tokenize import word_tokenize\n",
        "from nltk.stem import WordNetLemmatizer\n",
        "nltk.download('punkt')\n",
        "nltk.download('wordnet')\n",
        "nltk.download('stopwords')\n",
        "nltk.download('averaged_perceptron_tagger')\n",
        "nltk.download('maxent_ne_chunker')\n",
        "nltk.download('words')\n",
        "!unzip -o /usr/share/nltk_data/corpora/wordnet.zip -d /usr/share/nltk_data/corpora/\n",
        "\n",
        "lemmatizer = WordNetLemmatizer()\n",
        "stop_words = stopwords.words('english')"
      ],
      "metadata": {
        "execution": {
          "iopub.status.busy": "2024-07-05T18:47:25.742653Z",
          "iopub.execute_input": "2024-07-05T18:47:25.743052Z",
          "iopub.status.idle": "2024-07-05T18:47:27.360591Z",
          "shell.execute_reply.started": "2024-07-05T18:47:25.74302Z",
          "shell.execute_reply": "2024-07-05T18:47:27.359068Z"
        },
        "trusted": true,
        "id": "DJrIY4gBPhPC",
        "outputId": "cc61ce71-6da9-4bc8-fad2-e3f29b5c0f31",
        "colab": {
          "base_uri": "https://localhost:8080/"
        }
      },
      "execution_count": null,
      "outputs": [
        {
          "output_type": "stream",
          "name": "stderr",
          "text": [
            "[nltk_data] Downloading package punkt to /root/nltk_data...\n",
            "[nltk_data]   Package punkt is already up-to-date!\n",
            "[nltk_data] Downloading package wordnet to /root/nltk_data...\n",
            "[nltk_data]   Package wordnet is already up-to-date!\n",
            "[nltk_data] Downloading package stopwords to /root/nltk_data...\n",
            "[nltk_data]   Package stopwords is already up-to-date!\n",
            "[nltk_data] Downloading package averaged_perceptron_tagger to\n",
            "[nltk_data]     /root/nltk_data...\n",
            "[nltk_data]   Unzipping taggers/averaged_perceptron_tagger.zip.\n",
            "[nltk_data] Downloading package maxent_ne_chunker to\n",
            "[nltk_data]     /root/nltk_data...\n",
            "[nltk_data]   Unzipping chunkers/maxent_ne_chunker.zip.\n",
            "[nltk_data] Downloading package words to /root/nltk_data...\n"
          ]
        },
        {
          "output_type": "stream",
          "name": "stdout",
          "text": [
            "unzip:  cannot find or open /usr/share/nltk_data/corpora/wordnet.zip, /usr/share/nltk_data/corpora/wordnet.zip.zip or /usr/share/nltk_data/corpora/wordnet.zip.ZIP.\n"
          ]
        },
        {
          "output_type": "stream",
          "name": "stderr",
          "text": [
            "[nltk_data]   Unzipping corpora/words.zip.\n"
          ]
        }
      ]
    },
    {
      "cell_type": "code",
      "source": [
        "def preprocess(corpus):\n",
        "    corpus=corpus.lower()\n",
        "    words=word_tokenize(corpus)\n",
        "    #removing stopwords\n",
        "    words=[w for w in words if not w in stop_words ]\n",
        "    #removing punctuation\n",
        "    cleaned= [re.sub(r'[^\\w\\s]', '', token) for token in words if re.sub(r'[^\\w\\s]', '', token)]\n",
        "\n",
        "#     corpus = [lemmatizer.lemmatize(word) for word in cleaned]\n",
        "    return cleaned\n",
        "\n"
      ],
      "metadata": {
        "execution": {
          "iopub.status.busy": "2024-07-05T18:49:14.757133Z",
          "iopub.execute_input": "2024-07-05T18:49:14.75805Z",
          "iopub.status.idle": "2024-07-05T18:49:14.76476Z",
          "shell.execute_reply.started": "2024-07-05T18:49:14.758005Z",
          "shell.execute_reply": "2024-07-05T18:49:14.763495Z"
        },
        "trusted": true,
        "id": "8oM8uP8SPhPC"
      },
      "execution_count": null,
      "outputs": []
    },
    {
      "cell_type": "code",
      "source": [
        "import gensim.downloader as api\n",
        "\n",
        "# Load GloVe model\n",
        "glove_model = api.load(\"glove-wiki-gigaword-100\")  # 100-dimensional GloVe vectors\n"
      ],
      "metadata": {
        "execution": {
          "iopub.status.busy": "2024-07-05T18:47:27.372289Z",
          "iopub.execute_input": "2024-07-05T18:47:27.372776Z",
          "iopub.status.idle": "2024-07-05T18:48:12.740864Z",
          "shell.execute_reply.started": "2024-07-05T18:47:27.372735Z",
          "shell.execute_reply": "2024-07-05T18:48:12.739596Z"
        },
        "trusted": true,
        "id": "BpggVheXPhPD",
        "colab": {
          "base_uri": "https://localhost:8080/"
        },
        "outputId": "bf180f77-741c-4b0d-a2bb-bf2fdaf336ec"
      },
      "execution_count": null,
      "outputs": [
        {
          "output_type": "stream",
          "name": "stdout",
          "text": [
            "[==================================================] 100.0% 128.1/128.1MB downloaded\n"
          ]
        }
      ]
    },
    {
      "cell_type": "code",
      "source": [
        "model=glove_model\n",
        "def text_to_embeddings(text):\n",
        "    embedding=np.zeros(model.vector_size)\n",
        "    valid_word=0\n",
        "    for word in text:\n",
        "        if word in model:\n",
        "            embedding+=model[word]\n",
        "            valid_word+=1\n",
        "    if valid_word>0:\n",
        "        embedding/=valid_word\n",
        "\n",
        "    return embedding"
      ],
      "metadata": {
        "execution": {
          "iopub.status.busy": "2024-07-05T18:48:12.746975Z",
          "iopub.execute_input": "2024-07-05T18:48:12.747366Z",
          "iopub.status.idle": "2024-07-05T18:48:12.762846Z",
          "shell.execute_reply.started": "2024-07-05T18:48:12.747337Z",
          "shell.execute_reply": "2024-07-05T18:48:12.761543Z"
        },
        "trusted": true,
        "id": "GAWfYcQWPhPD"
      },
      "execution_count": null,
      "outputs": []
    },
    {
      "cell_type": "code",
      "source": [
        "for i in range(df.shape[0]):\n",
        "    corpus=df.iloc[i][1]\n",
        "    corpus=preprocess(corpus)\n",
        "    df.iloc[i][1]=text_to_embeddings(corpus)\n",
        "\n",
        "    if(i%100==0):\n",
        "        print(f'{i}.{df.iloc[i][0]}:{corpus}')\n",
        "\n",
        "\n"
      ],
      "metadata": {
        "execution": {
          "iopub.status.busy": "2024-07-05T18:49:18.869077Z",
          "iopub.execute_input": "2024-07-05T18:49:18.869527Z",
          "iopub.status.idle": "2024-07-05T18:49:24.8225Z",
          "shell.execute_reply.started": "2024-07-05T18:49:18.869473Z",
          "shell.execute_reply": "2024-07-05T18:49:24.821188Z"
        },
        "trusted": true,
        "id": "so6LfOhjPhPD",
        "outputId": "216c35e6-5178-4423-a6e1-fdc1c0e249cc",
        "colab": {
          "base_uri": "https://localhost:8080/"
        }
      },
      "execution_count": null,
      "outputs": [
        {
          "output_type": "stream",
          "name": "stdout",
          "text": [
            "0.ham:['go', 'jurong', 'point', 'crazy', 'available', 'bugis', 'n', 'great', 'world', 'la', 'e', 'buffet', 'cine', 'got', 'amore', 'wat']\n",
            "100.ham:['okay', 'name', 'ur', 'price', 'long', 'legal', 'wen', 'pick', 'u', 'ave', 'x', 'ams', 'xx']\n",
            "200.ham:['sent', 'lt', 'gt', 'bucks']\n",
            "300.ham:['awesome', 'remember', 'last', 'time', 'got', 'somebody', 'high', 'first', 'time', 'diesel', 'v']\n",
            "400.spam:['free', 'ringtone', 'text', 'first', '87131', 'poly', 'text', 'get', '87131', 'true', 'tone', 'help', '0845', '2814032', '16', '1st', 'free', 'tones', '3xå150pw', 'eånd', 'txt', 'stop']\n",
            "500.ham:['fighting', 'world', 'easy', 'u', 'either', 'win', 'lose', 'bt', 'fightng', 'some1', 'close', 'u', 'dificult', 'u', 'lose', 'u', 'lose', 'u', 'win', 'u', 'still', 'lose']\n",
            "600.ham:['mind', 'blastin', 'tsunamis', 'occur', 'rajnikant', 'stopped', 'swimming', 'indian', 'ocean', 'd']\n",
            "700.ham:['much', 'r', 'ì_', 'willing', 'pay']\n",
            "800.spam:['last', 'chance', 'claim', 'ur', 'å150', 'worth', 'discount', 'vouchers', 'today', 'text', 'shop', '85023', 'savamob', 'offers', 'mobile', 'cs', 'savamob', 'pobox84', 'm263uz', 'å300', 'sub', '16']\n",
            "900.ham:['probably', 'money', 'worries', 'things', 'coming', 'due', 'several', 'outstanding', 'invoices', 'work', 'two', 'three', 'months', 'ago']\n",
            "1000.ham:['heard', 'abt', 'tat']\n",
            "1100.ham:['busy', 'come', 'point', 'figure', 're', 'tomorrow']\n",
            "1200.ham:['otherwise', 'part', 'time', 'job', 'natuition']\n",
            "1300.ham:['cocksuckers', 'makes', 'feel', 'better', 'ipads', 'worthless', 'garbage', 'novelty', 'items', 'feel', 'bad', 'even', 'wanting', 'one']\n",
            "1400.ham:['decided', 'people', 'care', 'stuff', 'vote', 'caring', 'stuff', 'losers']\n",
            "1500.ham:['hostbased', 'idps', 'linux', 'systems']\n",
            "1600.ham:['kthen', 'special']\n",
            "1700.ham:['please', 'ask', 'mummy', 'call', 'father']\n",
            "1800.ham:['excellent', 'spent', 'lt', 'gt', 'years', 'air', 'force', 'iraq', 'afghanistan', 'stable', 'honest', 'like', 'traveling']\n",
            "1900.ham:['miss', 'vday', 'parachute', 'double', 'coins', 'u', 'must', 'know', 'well']\n",
            "2000.ham:['ll', 'b', 'going', '2', 'sch', 'mon', 'sis', 'need', '2', 'take', 'smth']\n",
            "2100.ham:['oh', 'howda', 'gud', 'gud', 'mathe', 'en', 'samachara', 'chikku']\n",
            "2200.ham:['haha', 'm', 'dinner', 'cousin']\n",
            "2300.ham:['nothin', 'comes', 'mind', 'ìï', 'help', 'buy', 'hanger', 'lor', 'ur', 'laptop', 'heavy']\n",
            "2400.ham:['hi', 'roger', 'cl']\n",
            "2500.ham:['remember', 'ask', 'alex', 'pizza']\n",
            "2600.ham:['usual', 'iam', 'fine', 'happy', 'amp', 'well']\n",
            "2700.ham:['feb', 'lt', 'gt', 'i', 'love', 'u', 'day', 'send', 'dis', 'ur', 'valued', 'frnds', 'evn', '3', 'comes', 'back', 'u', 'll', 'gt', 'married', 'person', 'u', 'luv', 'u', 'ignore', 'dis', 'u', 'lose', 'ur', 'luv', '4', 'evr']\n",
            "2800.ham:['depends', 'u', 'going', 'lor']\n",
            "2900.spam:['ur', 'cashbalance', 'currently', '500', 'pounds', 'maximize', 'ur', 'cashin', 'send', 'cash', '86688', '150pmsg', 'cc', '08718720201', 'po', 'box', '11414', 'tcrw1']\n",
            "3000.spam:['message', 'free', 'welcome', 'new', 'improved', 'sex', 'dogging', 'club', 'unsubscribe', 'service', 'reply', 'stop', 'msgs', '150p', '18only']\n",
            "3100.ham:['pathaya', 'enketa', 'maraikara', 'pa']\n",
            "3200.ham:['nicenicehow', 'working']\n",
            "3300.spam:['rct', 'thnq', 'adrian', 'u', 'text', 'rgds', 'vatian']\n",
            "3400.ham:['thanks', 'honey', 'great', 'day']\n",
            "3500.ham:['says', 'lt', 'gt', 'year', 'old', 'man', 'money', 'm', 'last', 'lt', 'gt', 'still', 'waiting', 'check']\n",
            "3600.ham:['jay', 'told', 'already']\n",
            "3700.ham:['shall', 'get', 'pouch']\n",
            "3800.ham:['s', 'ok', 'least', 'armand', 's', 'still', 'around']\n",
            "3900.ham:['depends', 'would', 'like', 'treated']\n",
            "4000.ham:['s', 'gon', 'na', 'worry', 'nothing', 'wo', 'nt', 'give', 'money', 'use']\n",
            "4100.spam:['gsoh', 'good', 'spam', 'ladies', 'u', 'could', 'b', 'male', 'gigolo', '2', 'join', 'uk', 's', 'fastest', 'growing', 'mens', 'club', 'reply', 'oncall', 'mjzgroup', '087143423992stop', 'reply', 'stop', 'msg', 'å150rcvd']\n",
            "4200.ham:['wylie', 'update', 'weed', 'dealer', 'carlos', 'went', 'freedom', 'class', 'lunsford']\n",
            "4300.ham:['ta', 'jobs', 'available', 'let', 'know', 'please', 'cos', 'really', 'need', 'start', 'working']\n",
            "4400.ham:['many', 'times', 'lose', 'best', 'ones', 'bcoz']\n",
            "4500.ham:['wat', 's', 'da', 'decision']\n",
            "4600.spam:['freemsg', 'txt', 'call', '86888', 'claim', 'reward', '3', 'hours', 'talk', 'time', 'use', 'phone', 'subscribe6gbpmnth', 'inc', '3hrs', '16', 'stop', 'txtstop']\n",
            "4700.ham:['liked', 'new', 'mobile']\n",
            "4800.ham:['guy', 'car', 'shop', 'flirting', 'got', 'phone', 'number', 'paperwork', 'called', 'texted', 'm', 'nervous', 'course', 'may', 'address', 'call', 'boss', 'tell', 'knowing', 'may', 'get', 'fired']\n",
            "4900.ham:['taka', 'lor', 'wat', 'time', 'u', 'wan', '2', 'come', 'n', 'look', '4', 'us']\n",
            "5000.ham:['nope', 'since', 'ayo', 'travelled', 'forgotten', 'guy']\n",
            "5100.ham:['aight', 'call', 're', 'close']\n",
            "5200.spam:['call', 'germany', '1', 'pence', 'per', 'minute', 'call', 'fixed', 'line', 'via', 'access', 'number', '0844', '861', '85', '85', 'prepayment', 'direct', 'access', 'wwwtelediscountcouk']\n",
            "5300.ham:['ca', 'nt', 'make', 'tonight']\n",
            "5400.ham:['hard', 'true', 'much', 'show', 'amp', 'express', 'love', 'someone', 'much', 'hurt', 'leave', 'get', 'seperated', 'öó_', 'ûud', 'evening']\n",
            "5500.ham:['love', 'one', 'law', 'make', 'happy', 'person', 'love', 'way', 'friendship', 'one', 'law', 'never', 'make', 'ur', 'friend', 'feel', 'alone', 'alive', 'gud', 'night']\n"
          ]
        }
      ]
    },
    {
      "cell_type": "markdown",
      "source": [
        "# Splitting the dataset"
      ],
      "metadata": {
        "id": "qRTkBhT6PhPD"
      }
    },
    {
      "cell_type": "code",
      "source": [
        "X = np.array(df['text'].tolist())\n",
        "Y=df['labels']"
      ],
      "metadata": {
        "execution": {
          "iopub.status.busy": "2024-07-05T18:49:49.234917Z",
          "iopub.execute_input": "2024-07-05T18:49:49.23533Z",
          "iopub.status.idle": "2024-07-05T18:49:49.247186Z",
          "shell.execute_reply.started": "2024-07-05T18:49:49.2353Z",
          "shell.execute_reply": "2024-07-05T18:49:49.24549Z"
        },
        "trusted": true,
        "id": "G2lJn18IPhPD"
      },
      "execution_count": null,
      "outputs": []
    },
    {
      "cell_type": "code",
      "source": [
        "from sklearn.preprocessing import LabelEncoder\n",
        "label_encoder = LabelEncoder()\n",
        "Y = label_encoder.fit_transform(Y)"
      ],
      "metadata": {
        "execution": {
          "iopub.status.busy": "2024-07-05T18:49:52.576817Z",
          "iopub.execute_input": "2024-07-05T18:49:52.57729Z",
          "iopub.status.idle": "2024-07-05T18:49:52.58592Z",
          "shell.execute_reply.started": "2024-07-05T18:49:52.577252Z",
          "shell.execute_reply": "2024-07-05T18:49:52.584462Z"
        },
        "trusted": true,
        "id": "S9LwJf9bPhPE"
      },
      "execution_count": null,
      "outputs": []
    },
    {
      "cell_type": "code",
      "source": [
        "X[0]"
      ],
      "metadata": {
        "execution": {
          "iopub.status.busy": "2024-07-05T18:49:55.240617Z",
          "iopub.execute_input": "2024-07-05T18:49:55.241033Z",
          "iopub.status.idle": "2024-07-05T18:49:55.249977Z",
          "shell.execute_reply.started": "2024-07-05T18:49:55.240999Z",
          "shell.execute_reply": "2024-07-05T18:49:55.248444Z"
        },
        "trusted": true,
        "id": "nYGgMkI5PhPE",
        "outputId": "2947484f-ffad-4af9-b500-3c0f04105f6a",
        "colab": {
          "base_uri": "https://localhost:8080/"
        }
      },
      "execution_count": null,
      "outputs": [
        {
          "output_type": "execute_result",
          "data": {
            "text/plain": [
              "array([-0.05918937,  0.07337588,  0.25856538, -0.02353659, -0.15043531,\n",
              "        0.11440406,  0.04923962,  0.24415666,  0.02678226, -0.12291641,\n",
              "        0.24561794, -0.0471365 , -0.07250625,  0.02821593,  0.03220781,\n",
              "       -0.16815124,  0.17508032, -0.01834675, -0.25474105,  0.32546962,\n",
              "        0.47869151,  0.26115429,  0.00677612, -0.11002887,  0.25488084,\n",
              "        0.1717145 ,  0.10902219, -0.06052206,  0.13065594, -0.23724187,\n",
              "       -0.12778981,  0.27703525,  0.07325162,  0.16444562,  0.18835919,\n",
              "        0.24226403,  0.04159175,  0.21951931,  0.13562988, -0.26649018,\n",
              "        0.04803331, -0.03659412, -0.24343425, -0.30099068,  0.11508219,\n",
              "        0.25914812, -0.10881699, -0.18706569,  0.09885563, -0.10801812,\n",
              "       -0.27193513,  0.16061344, -0.007965  ,  0.17332376, -0.50743412,\n",
              "       -1.35893125, -0.12336569,  0.21353975,  0.84468373,  0.07358543,\n",
              "       -0.36472579,  0.34791343, -0.37412387, -0.15056607,  0.30511539,\n",
              "        0.07264219,  0.18922813, -0.00659894,  0.20287397,  0.01746794,\n",
              "       -0.02174687,  0.01064451, -0.00272843, -0.30824856,  0.13839725,\n",
              "       -0.00184212, -0.03912544, -0.06290794, -0.23027337, -0.04750544,\n",
              "        0.21303463, -0.23484419, -0.20792719, -0.16807118, -0.68498063,\n",
              "        0.03975931, -0.20182225, -0.37727825,  0.04203375, -0.14312563,\n",
              "       -0.27805263,  0.02501781,  0.1630714 ,  0.12822213, -0.22689975,\n",
              "       -0.15326745, -0.14581677, -0.41695444,  0.40576963,  0.18938956])"
            ]
          },
          "metadata": {},
          "execution_count": 19
        }
      ]
    },
    {
      "cell_type": "code",
      "source": [
        "from sklearn.model_selection import train_test_split\n",
        "X_train,X_test,y_train,y_test=train_test_split(X,Y,test_size=0.2,random_state=42)"
      ],
      "metadata": {
        "execution": {
          "iopub.status.busy": "2024-07-05T18:49:58.166488Z",
          "iopub.execute_input": "2024-07-05T18:49:58.166946Z",
          "iopub.status.idle": "2024-07-05T18:49:58.178374Z",
          "shell.execute_reply.started": "2024-07-05T18:49:58.16691Z",
          "shell.execute_reply": "2024-07-05T18:49:58.176865Z"
        },
        "trusted": true,
        "id": "CF9ENZCbPhPE"
      },
      "execution_count": null,
      "outputs": []
    },
    {
      "cell_type": "code",
      "source": [
        "\n",
        "# Dictionary to store model names and their accuracies\n",
        "model_accuracies = {}\n"
      ],
      "metadata": {
        "execution": {
          "iopub.status.busy": "2024-07-05T18:50:00.232783Z",
          "iopub.execute_input": "2024-07-05T18:50:00.233271Z",
          "iopub.status.idle": "2024-07-05T18:50:00.239825Z",
          "shell.execute_reply.started": "2024-07-05T18:50:00.233234Z",
          "shell.execute_reply": "2024-07-05T18:50:00.238025Z"
        },
        "trusted": true,
        "id": "rSJIVvaePhPE"
      },
      "execution_count": null,
      "outputs": []
    },
    {
      "cell_type": "markdown",
      "source": [
        "# Applying models"
      ],
      "metadata": {
        "id": "w1FNorKYPhPE"
      }
    },
    {
      "cell_type": "code",
      "source": [
        "from sklearn.linear_model import LogisticRegression\n",
        "from sklearn.metrics import accuracy_score, classification_report\n",
        "\n",
        "lr=LogisticRegression()\n",
        "lr.fit(X_train,y_train)\n",
        "prediction_lr=lr.predict(X_test)\n",
        "model_accuracies['Logistic Regression'] = accuracy_score(prediction_lr,y_test)\n",
        "print(f'Accuracy:{accuracy_score(prediction_lr,y_test)}')\n"
      ],
      "metadata": {
        "execution": {
          "iopub.status.busy": "2024-07-05T18:50:02.213024Z",
          "iopub.execute_input": "2024-07-05T18:50:02.213484Z",
          "iopub.status.idle": "2024-07-05T18:50:02.278952Z",
          "shell.execute_reply.started": "2024-07-05T18:50:02.213431Z",
          "shell.execute_reply": "2024-07-05T18:50:02.277741Z"
        },
        "trusted": true,
        "id": "dXNsEdZOPhPE",
        "outputId": "dd5d4e7b-8f6a-4dd4-d69c-ad4278e1f485",
        "colab": {
          "base_uri": "https://localhost:8080/"
        }
      },
      "execution_count": null,
      "outputs": [
        {
          "output_type": "stream",
          "name": "stdout",
          "text": [
            "Accuracy:0.9291479820627803\n"
          ]
        }
      ]
    },
    {
      "cell_type": "code",
      "source": [
        "from sklearn.svm import SVC\n",
        "\n",
        "svc = SVC(kernel='linear')\n",
        "svc.fit(X_train, y_train)\n",
        "predictions_svc = svc.predict(X_test)\n",
        "model_accuracies['SVM'] = accuracy_score(predictions_svc, y_test)\n",
        "print(f'Accuracy: {accuracy_score(predictions_svc, y_test)}')\n",
        "print(classification_report(y_test, predictions_svc))\n"
      ],
      "metadata": {
        "execution": {
          "iopub.status.busy": "2024-07-05T18:50:04.847347Z",
          "iopub.execute_input": "2024-07-05T18:50:04.848357Z",
          "iopub.status.idle": "2024-07-05T18:50:05.208368Z",
          "shell.execute_reply.started": "2024-07-05T18:50:04.848309Z",
          "shell.execute_reply": "2024-07-05T18:50:05.207085Z"
        },
        "trusted": true,
        "id": "H1KU-RJmPhPF",
        "outputId": "e63b0f60-e019-4c99-dd38-c77a39b921c3",
        "colab": {
          "base_uri": "https://localhost:8080/"
        }
      },
      "execution_count": null,
      "outputs": [
        {
          "output_type": "stream",
          "name": "stdout",
          "text": [
            "Accuracy: 0.9291479820627803\n",
            "              precision    recall  f1-score   support\n",
            "\n",
            "           0       0.95      0.96      0.96       965\n",
            "           1       0.75      0.71      0.73       150\n",
            "\n",
            "    accuracy                           0.93      1115\n",
            "   macro avg       0.85      0.84      0.84      1115\n",
            "weighted avg       0.93      0.93      0.93      1115\n",
            "\n"
          ]
        }
      ]
    },
    {
      "cell_type": "code",
      "source": [
        "from sklearn.ensemble import RandomForestClassifier\n",
        "\n",
        "rf = RandomForestClassifier(n_estimators=100, random_state=42)\n",
        "rf.fit(X_train, y_train)\n",
        "predictions_rf = rf.predict(X_test)\n",
        "model_accuracies['RandomForest'] = accuracy_score(predictions_rf, y_test)\n",
        "print(f'Accuracy: {accuracy_score(predictions_rf, y_test)}')\n",
        "print(classification_report(y_test, predictions_rf))\n"
      ],
      "metadata": {
        "execution": {
          "iopub.status.busy": "2024-07-05T18:50:12.475161Z",
          "iopub.execute_input": "2024-07-05T18:50:12.475594Z",
          "iopub.status.idle": "2024-07-05T18:50:15.580116Z",
          "shell.execute_reply.started": "2024-07-05T18:50:12.475558Z",
          "shell.execute_reply": "2024-07-05T18:50:15.578473Z"
        },
        "trusted": true,
        "id": "6ftfT1PoPhPF",
        "outputId": "63e9a601-fe60-4222-d7b1-7ce448ab27e2",
        "colab": {
          "base_uri": "https://localhost:8080/"
        }
      },
      "execution_count": null,
      "outputs": [
        {
          "output_type": "stream",
          "name": "stdout",
          "text": [
            "Accuracy: 0.9632286995515695\n",
            "              precision    recall  f1-score   support\n",
            "\n",
            "           0       0.96      1.00      0.98       965\n",
            "           1       0.99      0.73      0.84       150\n",
            "\n",
            "    accuracy                           0.96      1115\n",
            "   macro avg       0.98      0.87      0.91      1115\n",
            "weighted avg       0.96      0.96      0.96      1115\n",
            "\n"
          ]
        }
      ]
    },
    {
      "cell_type": "code",
      "source": [
        "from sklearn.ensemble import GradientBoostingClassifier\n",
        "\n",
        "gbc = GradientBoostingClassifier(n_estimators=100, random_state=42)\n",
        "gbc.fit(X_train, y_train)\n",
        "predictions_gbc = gbc.predict(X_test)\n",
        "model_accuracies['GradientBoosting'] = accuracy_score(predictions_gbc, y_test)\n",
        "print(f'Accuracy: {accuracy_score(predictions_gbc, y_test)}')\n",
        "print(classification_report(y_test, predictions_gbc))\n"
      ],
      "metadata": {
        "execution": {
          "iopub.status.busy": "2024-07-05T18:50:18.228437Z",
          "iopub.execute_input": "2024-07-05T18:50:18.229003Z",
          "iopub.status.idle": "2024-07-05T18:50:34.804921Z",
          "shell.execute_reply.started": "2024-07-05T18:50:18.228963Z",
          "shell.execute_reply": "2024-07-05T18:50:34.803548Z"
        },
        "trusted": true,
        "id": "aKpmVzh6PhPF",
        "outputId": "43896a40-ae51-44e6-ae38-7f7afcec6cf9",
        "colab": {
          "base_uri": "https://localhost:8080/"
        }
      },
      "execution_count": null,
      "outputs": [
        {
          "output_type": "stream",
          "name": "stdout",
          "text": [
            "Accuracy: 0.9650224215246637\n",
            "              precision    recall  f1-score   support\n",
            "\n",
            "           0       0.97      0.99      0.98       965\n",
            "           1       0.96      0.77      0.86       150\n",
            "\n",
            "    accuracy                           0.97      1115\n",
            "   macro avg       0.96      0.88      0.92      1115\n",
            "weighted avg       0.96      0.97      0.96      1115\n",
            "\n"
          ]
        }
      ]
    },
    {
      "cell_type": "code",
      "source": [
        "from sklearn.neighbors import KNeighborsClassifier\n",
        "\n",
        "knn = KNeighborsClassifier(n_neighbors=5)\n",
        "knn.fit(X_train, y_train)\n",
        "predictions_knn = knn.predict(X_test)\n",
        "model_accuracies['KNN'] = accuracy_score(predictions_knn, y_test)\n",
        "print(f'Accuracy: {accuracy_score(predictions_knn, y_test)}')\n",
        "print(classification_report(y_test, predictions_knn))\n"
      ],
      "metadata": {
        "execution": {
          "iopub.status.busy": "2024-07-05T18:50:46.700233Z",
          "iopub.execute_input": "2024-07-05T18:50:46.700638Z",
          "iopub.status.idle": "2024-07-05T18:50:46.887453Z",
          "shell.execute_reply.started": "2024-07-05T18:50:46.700606Z",
          "shell.execute_reply": "2024-07-05T18:50:46.885972Z"
        },
        "trusted": true,
        "id": "zYT6sE9MPhPF",
        "outputId": "e38756f5-2fa2-4a80-f6c8-31142de50e4f",
        "colab": {
          "base_uri": "https://localhost:8080/"
        }
      },
      "execution_count": null,
      "outputs": [
        {
          "output_type": "stream",
          "name": "stdout",
          "text": [
            "Accuracy: 0.9408071748878923\n",
            "              precision    recall  f1-score   support\n",
            "\n",
            "           0       0.98      0.95      0.97       965\n",
            "           1       0.74      0.86      0.80       150\n",
            "\n",
            "    accuracy                           0.94      1115\n",
            "   macro avg       0.86      0.91      0.88      1115\n",
            "weighted avg       0.95      0.94      0.94      1115\n",
            "\n"
          ]
        }
      ]
    },
    {
      "cell_type": "code",
      "source": [
        "from sklearn.naive_bayes import GaussianNB\n",
        "\n",
        "nb = GaussianNB()\n",
        "nb.fit(X_train, y_train)\n",
        "predictions_nb = nb.predict(X_test)\n",
        "model_accuracies['GaussianNB'] = accuracy_score(predictions_nb, y_test)\n",
        "print(f'Accuracy: {accuracy_score(predictions_nb, y_test)}')\n",
        "print(classification_report(y_test, predictions_nb))\n"
      ],
      "metadata": {
        "execution": {
          "iopub.status.busy": "2024-07-05T18:50:51.513658Z",
          "iopub.execute_input": "2024-07-05T18:50:51.514076Z",
          "iopub.status.idle": "2024-07-05T18:50:51.545783Z",
          "shell.execute_reply.started": "2024-07-05T18:50:51.514045Z",
          "shell.execute_reply": "2024-07-05T18:50:51.544484Z"
        },
        "trusted": true,
        "id": "qw8nqMnHPhPF",
        "outputId": "34b4ca44-5905-4c83-e6f9-cd42bbe1fa59",
        "colab": {
          "base_uri": "https://localhost:8080/"
        }
      },
      "execution_count": null,
      "outputs": [
        {
          "output_type": "stream",
          "name": "stdout",
          "text": [
            "Accuracy: 0.8663677130044843\n",
            "              precision    recall  f1-score   support\n",
            "\n",
            "           0       0.98      0.87      0.92       965\n",
            "           1       0.50      0.87      0.64       150\n",
            "\n",
            "    accuracy                           0.87      1115\n",
            "   macro avg       0.74      0.87      0.78      1115\n",
            "weighted avg       0.91      0.87      0.88      1115\n",
            "\n"
          ]
        }
      ]
    },
    {
      "cell_type": "code",
      "source": [
        "import xgboost as xgb\n",
        "from xgboost import XGBClassifier\n",
        "\n",
        "xgb_clf = XGBClassifier(use_label_encoder=False, eval_metric='mlogloss', random_state=42)\n",
        "xgb_clf.fit(X_train, y_train)\n",
        "predictions_xgb = xgb_clf.predict(X_test)\n",
        "model_accuracies['XGBoost'] = accuracy_score(predictions_xgb, y_test)\n",
        "print(f'Accuracy: {accuracy_score(predictions_xgb, y_test)}')\n",
        "print(classification_report(y_test, predictions_xgb))\n"
      ],
      "metadata": {
        "execution": {
          "iopub.status.busy": "2024-07-05T18:50:55.598575Z",
          "iopub.execute_input": "2024-07-05T18:50:55.599036Z",
          "iopub.status.idle": "2024-07-05T18:50:56.515482Z",
          "shell.execute_reply.started": "2024-07-05T18:50:55.599002Z",
          "shell.execute_reply": "2024-07-05T18:50:56.514021Z"
        },
        "trusted": true,
        "id": "XXN1hao1PhPG",
        "outputId": "ec7feaff-dbf5-4359-b944-252bcd54f353",
        "colab": {
          "base_uri": "https://localhost:8080/"
        }
      },
      "execution_count": null,
      "outputs": [
        {
          "output_type": "stream",
          "name": "stdout",
          "text": [
            "Accuracy: 0.9695067264573991\n",
            "              precision    recall  f1-score   support\n",
            "\n",
            "           0       0.97      0.99      0.98       965\n",
            "           1       0.96      0.81      0.88       150\n",
            "\n",
            "    accuracy                           0.97      1115\n",
            "   macro avg       0.97      0.90      0.93      1115\n",
            "weighted avg       0.97      0.97      0.97      1115\n",
            "\n"
          ]
        }
      ]
    },
    {
      "cell_type": "markdown",
      "source": [
        "# Using neuralnetworks"
      ],
      "metadata": {
        "id": "T4D1N0raPhPG"
      }
    },
    {
      "cell_type": "code",
      "source": [
        "import tensorflow as tf\n",
        "from tensorflow import keras\n",
        "from keras.models import Sequential\n",
        "from keras.layers import Dense"
      ],
      "metadata": {
        "execution": {
          "iopub.status.busy": "2024-07-05T18:51:00.257027Z",
          "iopub.execute_input": "2024-07-05T18:51:00.257451Z",
          "iopub.status.idle": "2024-07-05T18:51:03.399454Z",
          "shell.execute_reply.started": "2024-07-05T18:51:00.257416Z",
          "shell.execute_reply": "2024-07-05T18:51:03.398197Z"
        },
        "trusted": true,
        "id": "f38dgrvcPhPG"
      },
      "execution_count": null,
      "outputs": []
    },
    {
      "cell_type": "code",
      "source": [
        "X_train[0].shape"
      ],
      "metadata": {
        "execution": {
          "iopub.status.busy": "2024-07-05T18:51:03.961987Z",
          "iopub.execute_input": "2024-07-05T18:51:03.962774Z",
          "iopub.status.idle": "2024-07-05T18:51:03.970449Z",
          "shell.execute_reply.started": "2024-07-05T18:51:03.962731Z",
          "shell.execute_reply": "2024-07-05T18:51:03.969157Z"
        },
        "trusted": true,
        "id": "pqJ0ALUcPhPG",
        "outputId": "59b494b3-51f5-4079-8553-4a899f1bbd2c",
        "colab": {
          "base_uri": "https://localhost:8080/"
        }
      },
      "execution_count": null,
      "outputs": [
        {
          "output_type": "execute_result",
          "data": {
            "text/plain": [
              "(100,)"
            ]
          },
          "metadata": {},
          "execution_count": 30
        }
      ]
    },
    {
      "cell_type": "code",
      "source": [
        "model=Sequential([\n",
        "    Dense(512,activation='relu',input_shape=(100,)),\n",
        "    Dense(256,activation='relu'),\n",
        "    Dense(64,activation='relu'),\n",
        "    Dense(32,activation='relu'),\n",
        "    Dense(1,activation='sigmoid')\n",
        "])\n"
      ],
      "metadata": {
        "execution": {
          "iopub.status.busy": "2024-07-05T18:51:06.122621Z",
          "iopub.execute_input": "2024-07-05T18:51:06.123098Z",
          "iopub.status.idle": "2024-07-05T18:51:06.224433Z",
          "shell.execute_reply.started": "2024-07-05T18:51:06.123066Z",
          "shell.execute_reply": "2024-07-05T18:51:06.222944Z"
        },
        "trusted": true,
        "id": "J7AEJXcHPhPG"
      },
      "execution_count": null,
      "outputs": []
    },
    {
      "cell_type": "code",
      "source": [
        "model.compile(loss='binary_crossentropy',optimizer='Adam',metrics=['accuracy'])"
      ],
      "metadata": {
        "execution": {
          "iopub.status.busy": "2024-07-05T18:51:10.376219Z",
          "iopub.execute_input": "2024-07-05T18:51:10.376677Z",
          "iopub.status.idle": "2024-07-05T18:51:10.393961Z",
          "shell.execute_reply.started": "2024-07-05T18:51:10.376639Z",
          "shell.execute_reply": "2024-07-05T18:51:10.39292Z"
        },
        "trusted": true,
        "id": "HKyE_Zk9PhPG"
      },
      "execution_count": null,
      "outputs": []
    },
    {
      "cell_type": "code",
      "source": [
        "history=model.fit(X_train,y_train,epochs=25,verbose=1)"
      ],
      "metadata": {
        "execution": {
          "iopub.status.busy": "2024-07-05T18:51:13.197316Z",
          "iopub.execute_input": "2024-07-05T18:51:13.197751Z",
          "iopub.status.idle": "2024-07-05T18:51:28.522843Z",
          "shell.execute_reply.started": "2024-07-05T18:51:13.197716Z",
          "shell.execute_reply": "2024-07-05T18:51:28.521467Z"
        },
        "trusted": true,
        "id": "FJcV7gYTPhPG",
        "outputId": "095ed09d-fb23-4691-c229-38d051c608df",
        "colab": {
          "base_uri": "https://localhost:8080/"
        }
      },
      "execution_count": null,
      "outputs": [
        {
          "output_type": "stream",
          "name": "stdout",
          "text": [
            "Epoch 1/25\n",
            "140/140 [==============================] - 2s 4ms/step - loss: 0.1765 - accuracy: 0.9345\n",
            "Epoch 2/25\n",
            "140/140 [==============================] - 1s 4ms/step - loss: 0.0876 - accuracy: 0.9699\n",
            "Epoch 3/25\n",
            "140/140 [==============================] - 1s 4ms/step - loss: 0.0669 - accuracy: 0.9791\n",
            "Epoch 4/25\n",
            "140/140 [==============================] - 1s 4ms/step - loss: 0.0637 - accuracy: 0.9803\n",
            "Epoch 5/25\n",
            "140/140 [==============================] - 1s 4ms/step - loss: 0.0435 - accuracy: 0.9879\n",
            "Epoch 6/25\n",
            "140/140 [==============================] - 1s 4ms/step - loss: 0.0358 - accuracy: 0.9888\n",
            "Epoch 7/25\n",
            "140/140 [==============================] - 1s 4ms/step - loss: 0.0339 - accuracy: 0.9892\n",
            "Epoch 8/25\n",
            "140/140 [==============================] - 1s 4ms/step - loss: 0.0255 - accuracy: 0.9921\n",
            "Epoch 9/25\n",
            "140/140 [==============================] - 1s 5ms/step - loss: 0.0235 - accuracy: 0.9930\n",
            "Epoch 10/25\n",
            "140/140 [==============================] - 1s 5ms/step - loss: 0.0201 - accuracy: 0.9951\n",
            "Epoch 11/25\n",
            "140/140 [==============================] - 1s 6ms/step - loss: 0.0255 - accuracy: 0.9919\n",
            "Epoch 12/25\n",
            "140/140 [==============================] - 1s 5ms/step - loss: 0.0158 - accuracy: 0.9951\n",
            "Epoch 13/25\n",
            "140/140 [==============================] - 1s 4ms/step - loss: 0.0189 - accuracy: 0.9939\n",
            "Epoch 14/25\n",
            "140/140 [==============================] - 1s 4ms/step - loss: 0.0065 - accuracy: 0.9975\n",
            "Epoch 15/25\n",
            "140/140 [==============================] - 1s 4ms/step - loss: 0.0151 - accuracy: 0.9953\n",
            "Epoch 16/25\n",
            "140/140 [==============================] - 1s 4ms/step - loss: 0.0126 - accuracy: 0.9951\n",
            "Epoch 17/25\n",
            "140/140 [==============================] - 1s 4ms/step - loss: 0.0056 - accuracy: 0.9987\n",
            "Epoch 18/25\n",
            "140/140 [==============================] - 1s 4ms/step - loss: 0.0037 - accuracy: 0.9991\n",
            "Epoch 19/25\n",
            "140/140 [==============================] - 1s 4ms/step - loss: 0.0050 - accuracy: 0.9987\n",
            "Epoch 20/25\n",
            "140/140 [==============================] - 1s 4ms/step - loss: 0.0328 - accuracy: 0.9872\n",
            "Epoch 21/25\n",
            "140/140 [==============================] - 1s 4ms/step - loss: 0.0123 - accuracy: 0.9964\n",
            "Epoch 22/25\n",
            "140/140 [==============================] - 1s 4ms/step - loss: 0.0158 - accuracy: 0.9951\n",
            "Epoch 23/25\n",
            "140/140 [==============================] - 1s 4ms/step - loss: 0.0024 - accuracy: 0.9996\n",
            "Epoch 24/25\n",
            "140/140 [==============================] - 1s 4ms/step - loss: 0.0015 - accuracy: 0.9998\n",
            "Epoch 25/25\n",
            "140/140 [==============================] - 1s 4ms/step - loss: 1.2657e-04 - accuracy: 1.0000\n"
          ]
        }
      ]
    },
    {
      "cell_type": "code",
      "source": [
        "predictions_tf = model.predict(X_test)\n",
        "predictions_tf_binary = (predictions_tf > 0.5).astype(int)\n",
        "model_accuracies['Tensorflow'] = accuracy_score(predictions_tf_binary, y_test)\n",
        "print(f'Accuracy: {accuracy_score(predictions_tf_binary, y_test)}')\n",
        "\n"
      ],
      "metadata": {
        "execution": {
          "iopub.status.busy": "2024-07-05T18:51:32.448126Z",
          "iopub.execute_input": "2024-07-05T18:51:32.448596Z",
          "iopub.status.idle": "2024-07-05T18:51:32.786936Z",
          "shell.execute_reply.started": "2024-07-05T18:51:32.44854Z",
          "shell.execute_reply": "2024-07-05T18:51:32.785343Z"
        },
        "trusted": true,
        "id": "Mkzz5h9ZPhPH",
        "outputId": "e6889920-0cb0-4470-d7d1-e8d130f57f3c",
        "colab": {
          "base_uri": "https://localhost:8080/"
        }
      },
      "execution_count": null,
      "outputs": [
        {
          "output_type": "stream",
          "name": "stdout",
          "text": [
            "35/35 [==============================] - 0s 2ms/step\n",
            "Accuracy: 0.9704035874439462\n"
          ]
        }
      ]
    },
    {
      "cell_type": "code",
      "source": [
        "# Create a DataFrame from the model accuracies dictionary\n",
        "accuracy_df = pd.DataFrame(list(model_accuracies.items()), columns=['Model', 'Accuracy'])\n",
        "accuracy_df_sorted=accuracy_df.sort_values(by='Accuracy', ascending=False)\n",
        "\n",
        "print(accuracy_df_sorted)"
      ],
      "metadata": {
        "execution": {
          "iopub.status.busy": "2024-07-05T18:51:38.0638Z",
          "iopub.execute_input": "2024-07-05T18:51:38.064565Z",
          "iopub.status.idle": "2024-07-05T18:51:38.075324Z",
          "shell.execute_reply.started": "2024-07-05T18:51:38.064527Z",
          "shell.execute_reply": "2024-07-05T18:51:38.074038Z"
        },
        "trusted": true,
        "id": "Gmx3Ejk_PhPH",
        "outputId": "fb6fced5-1d87-4707-fe8c-33af865c881f",
        "colab": {
          "base_uri": "https://localhost:8080/"
        }
      },
      "execution_count": null,
      "outputs": [
        {
          "output_type": "stream",
          "name": "stdout",
          "text": [
            "                 Model  Accuracy\n",
            "7           Tensorflow  0.970404\n",
            "6              XGBoost  0.969507\n",
            "3     GradientBoosting  0.965022\n",
            "2         RandomForest  0.963229\n",
            "4                  KNN  0.940807\n",
            "1                  SVM  0.929148\n",
            "0  Logistic Regression  0.929148\n",
            "5           GaussianNB  0.866368\n"
          ]
        }
      ]
    }
  ]
}